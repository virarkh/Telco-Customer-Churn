{
  "cells": [
    {
      "cell_type": "markdown",
      "id": "12d39ec3",
      "metadata": {
        "id": "12d39ec3"
      },
      "source": [
        "# Use Case Summary"
      ]
    },
    {
      "cell_type": "markdown",
      "id": "cacb9c71",
      "metadata": {
        "id": "cacb9c71"
      },
      "source": [
        "## Objective Statement\n",
        "* To get insight how many customers that churn and not churn.\n",
        "* To get insight whether customers that churn and not churn based on gender, senior citizen, have partner and dependents.\n",
        "* To get insight whether customers that churn and not churn based on how many customers use the services provided such as \n",
        "contract, phone service, multiple lines, internet service, online security, online backup, device protection, tech support, streaming tv, streaming movies, paperless billing and payment method.\n",
        "* To get insight whether customers that churn and not churn based on how many spending their money every month and total spending\n",
        "* To get insight whether customers that churn and not churn based on how long their tenure.\n",
        "* Create modeling using Machine Learning to predict customers churn."
      ]
    },
    {
      "cell_type": "markdown",
      "id": "63e67bc0",
      "metadata": {
        "id": "63e67bc0"
      },
      "source": [
        "## Challenges\n",
        "* Large size of data, can not be maintained by excel spreadsheet.\n",
        "* Dataset have missing values and incorrect data type.\n",
        "* Don't understand the data stored in each column with the column name."
      ]
    },
    {
      "cell_type": "markdown",
      "id": "7a16fbfa",
      "metadata": {
        "id": "7a16fbfa"
      },
      "source": [
        "## Methodology / Analytic Technique\n",
        "* Descriptive Analysis: to find out information on current conditions based on the data that has been collected.\n",
        "* Graph Analysis: provide information from the graph.\n",
        "* Modelling : Machine Learning Classification."
      ]
    },
    {
      "cell_type": "markdown",
      "id": "71189b5c",
      "metadata": {
        "id": "71189b5c"
      },
      "source": [
        "## Business Benefit\n",
        "* Know how to treat customers based on their behavior.\n",
        "* Help the business team provide products or services based on the behavior of each customer."
      ]
    },
    {
      "cell_type": "markdown",
      "id": "e78967f1",
      "metadata": {
        "id": "e78967f1"
      },
      "source": [
        "## Expected Outcome\n",
        "* Know how many customers that churn and not churn. \n",
        "* Know how many customers that churn and not churn based on gender, senior citizen, have partner and dependents.\n",
        "* Know how many customers that churn and not churn based on contract, phone service, multiple lines, internet service, online security, online backup, device protection, tech support, streaming tv, streaming movies, paperless billing and payment method.\n",
        "* Know how many customers that churn and not churn based on spending their money every month and total spending.\n",
        "* Know how long customers that churn and not churn based on ong their tenure.\n",
        "* Create modeling using Machine Learning to predict customers churn.\n",
        "\n"
      ]
    },
    {
      "cell_type": "markdown",
      "id": "a10c6011",
      "metadata": {
        "id": "a10c6011"
      },
      "source": [
        "<HR>"
      ]
    },
    {
      "cell_type": "markdown",
      "id": "bdf7ad2d",
      "metadata": {
        "id": "bdf7ad2d"
      },
      "source": [
        "# Business Understanding\n",
        "Telco Company is a company engaged in the information technology services, communications and telecommunications networks. Customer churn in telco company is one of the biggest problems in a company. Why? Because the cost of acquiring a new customer is way more expensive than retaining an existing one. Thus in this project has some business questions using the data telco :\n",
        "* How many customers that churn and not churn ?\n",
        "* How many customers that churn and not churn based on gender, senior citizen, have partner and dependents ?\n",
        "* How many customers that churn and not churn based on contract, phone service, multiple lines, internet service, online security, online backup, device protection, tech support, streaming tv, streaming movies, paperless billing and payment method ?\n",
        "* How many customers that churn and not churn based on spending their money every month and total spending ?\n",
        "* How long customers that churn and not churn based on their tenure ?\n",
        "* How produce modeling using Machine Learning to predict customers churn ?"
      ]
    },
    {
      "cell_type": "markdown",
      "id": "0f07ae51",
      "metadata": {
        "id": "0f07ae51"
      },
      "source": [
        "<hr>"
      ]
    },
    {
      "cell_type": "markdown",
      "id": "2893adac",
      "metadata": {
        "id": "2893adac"
      },
      "source": [
        "# Data Understanding"
      ]
    },
    {
      "cell_type": "markdown",
      "id": "fb15dc3d",
      "metadata": {
        "id": "fb15dc3d"
      },
      "source": [
        "## Source Data\n",
        "Telco Customer Churn by International Business Machines Corporation (IBM) Sample Data Sets. <br>\n",
        "https://www.kaggle.com/datasets/blastchar/telco-customer-churn"
      ]
    },
    {
      "cell_type": "markdown",
      "id": "8a8a7e25",
      "metadata": {
        "id": "8a8a7e25"
      },
      "source": [
        "## Data Dictionary\n",
        "The dataset has 21 columns and 7043 rows.\n",
        "\n",
        "**Demographic Information**\n",
        "* customerID : Unique number for each customers. \n",
        "* gender : Whether the client is a female or a male (Female, Male).\n",
        "* SeniorCitizen : Whether the client is a senior citizen or not (0, 1).\n",
        "* Partner : Whether the client has a partner or not (Yes, No). \n",
        "* Dependents : Whether the client has dependents or not (Yes, No). \n",
        "* Churn : Whether the customer churned or not (Yes, No). \n",
        "\n",
        "**Customer Account Information**\n",
        "* tenure : Number of months the customer has stayed with the company (Multiple different numeric values). \n",
        "* Contract : Indicates the customers current contract type (Month-to-Month, One year, Two year). \n",
        "* PaperlessBilling : Whether the client has paperless billing or not (Yes, No). \n",
        "* PaymentMethod : The customers payment method (Electronic check, Mailed check, * Bank transfer (automatic), Credit Card (automatic)). \n",
        "* MonthlyCharges : The amount charged to the customer monthly (Multiple different numeric values). \n",
        "* TotalChargess : The total amount charged to the customer (Multiple different numeric values). \n",
        "\n",
        "**Services Information**\n",
        "* PhoneService : Whether the client has a phone service or not (Yes, No). \n",
        "* MultipleLines : Whether the client has multiple lines or not (No phone service, No, Yes). \n",
        "* InternetService : Whether the client is subscribed to Internet service with the company (DSL, Fiber, optic, No). \n",
        "* OnlineSecurity : Whether the client has online security or not (No internet service, No, Yes). \n",
        "* OnlineBackup : Whether the client has online backup or not (No internet service, No, Yes). \n",
        "* DeviceProtection : Whether the client has device protection or not (No internet service, No, Yes). \n",
        "* TechSupport : Whether the client has tech support or not (No internet service, No, Yes). \n",
        "* StreamingTV : Whether the client has streaming TV or not (No internet service, No, Yes). \n",
        "* StreamingMovies : Whether the client has streaming movies or not (No internet service, No, Yes). "
      ]
    },
    {
      "cell_type": "markdown",
      "id": "d327dcbd",
      "metadata": {
        "id": "d327dcbd"
      },
      "source": [
        "<hr>"
      ]
    },
    {
      "cell_type": "markdown",
      "id": "8143a4b1",
      "metadata": {
        "id": "8143a4b1"
      },
      "source": [
        "# Data Preparation\n",
        "* Programming Language : Python Version 3.9.12 \n",
        "* Libraries : Pandas, Numpy, Matplotlib, Seaborn, Sklearn, Imblearn"
      ]
    },
    {
      "cell_type": "markdown",
      "id": "51262d42",
      "metadata": {
        "id": "51262d42"
      },
      "source": [
        "### Import Library"
      ]
    },
    {
      "cell_type": "code",
      "execution_count": null,
      "id": "8bcc96af",
      "metadata": {
        "id": "8bcc96af"
      },
      "outputs": [],
      "source": [
        "import pandas as pd\n",
        "import numpy as np\n",
        "import matplotlib.pyplot as plt\n",
        "%matplotlib inline\n",
        "import seaborn as sns\n",
        "\n",
        "from sklearn.preprocessing import OrdinalEncoder\n",
        "from sklearn.preprocessing import OneHotEncoder\n",
        "from sklearn.metrics import mean_absolute_percentage_error\n",
        "from sklearn.preprocessing import MinMaxScaler\n",
        "from sklearn.linear_model import LogisticRegression\n",
        "from sklearn.metrics import confusion_matrix\n",
        "from sklearn.metrics import classification_report\n",
        "from sklearn.metrics import accuracy_score\n",
        "from sklearn.metrics import roc_auc_score, accuracy_score, precision_score, recall_score, confusion_matrix, roc_curve, auc, log_loss\n",
        "from imblearn.over_sampling import SMOTE\n",
        "\n",
        "from sklearn.model_selection import cross_val_score\n",
        "from sklearn.model_selection import KFold\n",
        "from sklearn.model_selection import RandomizedSearchCV\n",
        "from sklearn.model_selection import GridSearchCV\n",
        "\n",
        "from sklearn.model_selection import train_test_split\n",
        "from sklearn.ensemble import ExtraTreesClassifier\n",
        "\n",
        "import warnings\n",
        "warnings.filterwarnings('ignore')"
      ]
    },
    {
      "cell_type": "markdown",
      "id": "de26a434",
      "metadata": {
        "id": "de26a434"
      },
      "source": [
        "### Data Profiling"
      ]
    },
    {
      "cell_type": "code",
      "execution_count": null,
      "id": "1bb84df5",
      "metadata": {
        "colab": {
          "base_uri": "https://localhost:8080/",
          "height": 386
        },
        "id": "1bb84df5",
        "outputId": "1c9123ef-0b2d-432e-ea94-62aa66d00099"
      },
      "outputs": [
        {
          "output_type": "execute_result",
          "data": {
            "text/plain": [
              "   customerID gender  SeniorCitizen Partner Dependents  tenure PhoneService  \\\n",
              "0  7590-VHVEG    NaN            NaN     NaN        NaN       1           No   \n",
              "1  5575-GNVDE    NaN            NaN     NaN        NaN      34          Yes   \n",
              "2  3668-QPYBK    NaN            NaN     NaN        NaN       2          Yes   \n",
              "3  7795-CFOCW    NaN            NaN     NaN        NaN      45           No   \n",
              "4  9237-HQITU    NaN            NaN     NaN        NaN       2          Yes   \n",
              "\n",
              "  MultipleLines InternetService OnlineSecurity  ... DeviceProtection  \\\n",
              "0           NaN             NaN            NaN  ...              NaN   \n",
              "1           NaN             NaN            NaN  ...              NaN   \n",
              "2           NaN             NaN            NaN  ...              NaN   \n",
              "3           NaN             NaN            NaN  ...              NaN   \n",
              "4           NaN             NaN            NaN  ...              NaN   \n",
              "\n",
              "  TechSupport StreamingTV StreamingMovies        Contract PaperlessBilling  \\\n",
              "0         NaN         NaN             NaN  Month-to-month              Yes   \n",
              "1         NaN         NaN             NaN        One year               No   \n",
              "2         NaN         NaN             NaN  Month-to-month              Yes   \n",
              "3         NaN         NaN             NaN        One year               No   \n",
              "4         NaN         NaN             NaN  Month-to-month              Yes   \n",
              "\n",
              "               PaymentMethod MonthlyCharges  TotalCharges Churn  \n",
              "0           Electronic check          29.85         29.85    No  \n",
              "1               Mailed check          56.95        1889.5    No  \n",
              "2               Mailed check          53.85        108.15   Yes  \n",
              "3  Bank transfer (automatic)          42.30       1840.75    No  \n",
              "4           Electronic check          70.70        151.65   Yes  \n",
              "\n",
              "[5 rows x 21 columns]"
            ],
            "text/html": [
              "\n",
              "  <div id=\"df-b8fe481b-a937-4fbc-a831-5fbcf52db34e\">\n",
              "    <div class=\"colab-df-container\">\n",
              "      <div>\n",
              "<style scoped>\n",
              "    .dataframe tbody tr th:only-of-type {\n",
              "        vertical-align: middle;\n",
              "    }\n",
              "\n",
              "    .dataframe tbody tr th {\n",
              "        vertical-align: top;\n",
              "    }\n",
              "\n",
              "    .dataframe thead th {\n",
              "        text-align: right;\n",
              "    }\n",
              "</style>\n",
              "<table border=\"1\" class=\"dataframe\">\n",
              "  <thead>\n",
              "    <tr style=\"text-align: right;\">\n",
              "      <th></th>\n",
              "      <th>customerID</th>\n",
              "      <th>gender</th>\n",
              "      <th>SeniorCitizen</th>\n",
              "      <th>Partner</th>\n",
              "      <th>Dependents</th>\n",
              "      <th>tenure</th>\n",
              "      <th>PhoneService</th>\n",
              "      <th>MultipleLines</th>\n",
              "      <th>InternetService</th>\n",
              "      <th>OnlineSecurity</th>\n",
              "      <th>...</th>\n",
              "      <th>DeviceProtection</th>\n",
              "      <th>TechSupport</th>\n",
              "      <th>StreamingTV</th>\n",
              "      <th>StreamingMovies</th>\n",
              "      <th>Contract</th>\n",
              "      <th>PaperlessBilling</th>\n",
              "      <th>PaymentMethod</th>\n",
              "      <th>MonthlyCharges</th>\n",
              "      <th>TotalCharges</th>\n",
              "      <th>Churn</th>\n",
              "    </tr>\n",
              "  </thead>\n",
              "  <tbody>\n",
              "    <tr>\n",
              "      <th>0</th>\n",
              "      <td>7590-VHVEG</td>\n",
              "      <td>NaN</td>\n",
              "      <td>NaN</td>\n",
              "      <td>NaN</td>\n",
              "      <td>NaN</td>\n",
              "      <td>1</td>\n",
              "      <td>No</td>\n",
              "      <td>NaN</td>\n",
              "      <td>NaN</td>\n",
              "      <td>NaN</td>\n",
              "      <td>...</td>\n",
              "      <td>NaN</td>\n",
              "      <td>NaN</td>\n",
              "      <td>NaN</td>\n",
              "      <td>NaN</td>\n",
              "      <td>Month-to-month</td>\n",
              "      <td>Yes</td>\n",
              "      <td>Electronic check</td>\n",
              "      <td>29.85</td>\n",
              "      <td>29.85</td>\n",
              "      <td>No</td>\n",
              "    </tr>\n",
              "    <tr>\n",
              "      <th>1</th>\n",
              "      <td>5575-GNVDE</td>\n",
              "      <td>NaN</td>\n",
              "      <td>NaN</td>\n",
              "      <td>NaN</td>\n",
              "      <td>NaN</td>\n",
              "      <td>34</td>\n",
              "      <td>Yes</td>\n",
              "      <td>NaN</td>\n",
              "      <td>NaN</td>\n",
              "      <td>NaN</td>\n",
              "      <td>...</td>\n",
              "      <td>NaN</td>\n",
              "      <td>NaN</td>\n",
              "      <td>NaN</td>\n",
              "      <td>NaN</td>\n",
              "      <td>One year</td>\n",
              "      <td>No</td>\n",
              "      <td>Mailed check</td>\n",
              "      <td>56.95</td>\n",
              "      <td>1889.5</td>\n",
              "      <td>No</td>\n",
              "    </tr>\n",
              "    <tr>\n",
              "      <th>2</th>\n",
              "      <td>3668-QPYBK</td>\n",
              "      <td>NaN</td>\n",
              "      <td>NaN</td>\n",
              "      <td>NaN</td>\n",
              "      <td>NaN</td>\n",
              "      <td>2</td>\n",
              "      <td>Yes</td>\n",
              "      <td>NaN</td>\n",
              "      <td>NaN</td>\n",
              "      <td>NaN</td>\n",
              "      <td>...</td>\n",
              "      <td>NaN</td>\n",
              "      <td>NaN</td>\n",
              "      <td>NaN</td>\n",
              "      <td>NaN</td>\n",
              "      <td>Month-to-month</td>\n",
              "      <td>Yes</td>\n",
              "      <td>Mailed check</td>\n",
              "      <td>53.85</td>\n",
              "      <td>108.15</td>\n",
              "      <td>Yes</td>\n",
              "    </tr>\n",
              "    <tr>\n",
              "      <th>3</th>\n",
              "      <td>7795-CFOCW</td>\n",
              "      <td>NaN</td>\n",
              "      <td>NaN</td>\n",
              "      <td>NaN</td>\n",
              "      <td>NaN</td>\n",
              "      <td>45</td>\n",
              "      <td>No</td>\n",
              "      <td>NaN</td>\n",
              "      <td>NaN</td>\n",
              "      <td>NaN</td>\n",
              "      <td>...</td>\n",
              "      <td>NaN</td>\n",
              "      <td>NaN</td>\n",
              "      <td>NaN</td>\n",
              "      <td>NaN</td>\n",
              "      <td>One year</td>\n",
              "      <td>No</td>\n",
              "      <td>Bank transfer (automatic)</td>\n",
              "      <td>42.30</td>\n",
              "      <td>1840.75</td>\n",
              "      <td>No</td>\n",
              "    </tr>\n",
              "    <tr>\n",
              "      <th>4</th>\n",
              "      <td>9237-HQITU</td>\n",
              "      <td>NaN</td>\n",
              "      <td>NaN</td>\n",
              "      <td>NaN</td>\n",
              "      <td>NaN</td>\n",
              "      <td>2</td>\n",
              "      <td>Yes</td>\n",
              "      <td>NaN</td>\n",
              "      <td>NaN</td>\n",
              "      <td>NaN</td>\n",
              "      <td>...</td>\n",
              "      <td>NaN</td>\n",
              "      <td>NaN</td>\n",
              "      <td>NaN</td>\n",
              "      <td>NaN</td>\n",
              "      <td>Month-to-month</td>\n",
              "      <td>Yes</td>\n",
              "      <td>Electronic check</td>\n",
              "      <td>70.70</td>\n",
              "      <td>151.65</td>\n",
              "      <td>Yes</td>\n",
              "    </tr>\n",
              "  </tbody>\n",
              "</table>\n",
              "<p>5 rows × 21 columns</p>\n",
              "</div>\n",
              "      <button class=\"colab-df-convert\" onclick=\"convertToInteractive('df-b8fe481b-a937-4fbc-a831-5fbcf52db34e')\"\n",
              "              title=\"Convert this dataframe to an interactive table.\"\n",
              "              style=\"display:none;\">\n",
              "        \n",
              "  <svg xmlns=\"http://www.w3.org/2000/svg\" height=\"24px\"viewBox=\"0 0 24 24\"\n",
              "       width=\"24px\">\n",
              "    <path d=\"M0 0h24v24H0V0z\" fill=\"none\"/>\n",
              "    <path d=\"M18.56 5.44l.94 2.06.94-2.06 2.06-.94-2.06-.94-.94-2.06-.94 2.06-2.06.94zm-11 1L8.5 8.5l.94-2.06 2.06-.94-2.06-.94L8.5 2.5l-.94 2.06-2.06.94zm10 10l.94 2.06.94-2.06 2.06-.94-2.06-.94-.94-2.06-.94 2.06-2.06.94z\"/><path d=\"M17.41 7.96l-1.37-1.37c-.4-.4-.92-.59-1.43-.59-.52 0-1.04.2-1.43.59L10.3 9.45l-7.72 7.72c-.78.78-.78 2.05 0 2.83L4 21.41c.39.39.9.59 1.41.59.51 0 1.02-.2 1.41-.59l7.78-7.78 2.81-2.81c.8-.78.8-2.07 0-2.86zM5.41 20L4 18.59l7.72-7.72 1.47 1.35L5.41 20z\"/>\n",
              "  </svg>\n",
              "      </button>\n",
              "      \n",
              "  <style>\n",
              "    .colab-df-container {\n",
              "      display:flex;\n",
              "      flex-wrap:wrap;\n",
              "      gap: 12px;\n",
              "    }\n",
              "\n",
              "    .colab-df-convert {\n",
              "      background-color: #E8F0FE;\n",
              "      border: none;\n",
              "      border-radius: 50%;\n",
              "      cursor: pointer;\n",
              "      display: none;\n",
              "      fill: #1967D2;\n",
              "      height: 32px;\n",
              "      padding: 0 0 0 0;\n",
              "      width: 32px;\n",
              "    }\n",
              "\n",
              "    .colab-df-convert:hover {\n",
              "      background-color: #E2EBFA;\n",
              "      box-shadow: 0px 1px 2px rgba(60, 64, 67, 0.3), 0px 1px 3px 1px rgba(60, 64, 67, 0.15);\n",
              "      fill: #174EA6;\n",
              "    }\n",
              "\n",
              "    [theme=dark] .colab-df-convert {\n",
              "      background-color: #3B4455;\n",
              "      fill: #D2E3FC;\n",
              "    }\n",
              "\n",
              "    [theme=dark] .colab-df-convert:hover {\n",
              "      background-color: #434B5C;\n",
              "      box-shadow: 0px 1px 3px 1px rgba(0, 0, 0, 0.15);\n",
              "      filter: drop-shadow(0px 1px 2px rgba(0, 0, 0, 0.3));\n",
              "      fill: #FFFFFF;\n",
              "    }\n",
              "  </style>\n",
              "\n",
              "      <script>\n",
              "        const buttonEl =\n",
              "          document.querySelector('#df-b8fe481b-a937-4fbc-a831-5fbcf52db34e button.colab-df-convert');\n",
              "        buttonEl.style.display =\n",
              "          google.colab.kernel.accessAllowed ? 'block' : 'none';\n",
              "\n",
              "        async function convertToInteractive(key) {\n",
              "          const element = document.querySelector('#df-b8fe481b-a937-4fbc-a831-5fbcf52db34e');\n",
              "          const dataTable =\n",
              "            await google.colab.kernel.invokeFunction('convertToInteractive',\n",
              "                                                     [key], {});\n",
              "          if (!dataTable) return;\n",
              "\n",
              "          const docLinkHtml = 'Like what you see? Visit the ' +\n",
              "            '<a target=\"_blank\" href=https://colab.research.google.com/notebooks/data_table.ipynb>data table notebook</a>'\n",
              "            + ' to learn more about interactive tables.';\n",
              "          element.innerHTML = '';\n",
              "          dataTable['output_type'] = 'display_data';\n",
              "          await google.colab.output.renderOutput(dataTable, element);\n",
              "          const docLink = document.createElement('div');\n",
              "          docLink.innerHTML = docLinkHtml;\n",
              "          element.appendChild(docLink);\n",
              "        }\n",
              "      </script>\n",
              "    </div>\n",
              "  </div>\n",
              "  "
            ]
          },
          "metadata": {},
          "execution_count": 2
        }
      ],
      "source": [
        "df_telco = pd.read_csv('data_telco.csv')\n",
        "\n",
        "df_telco.head()"
      ]
    },
    {
      "cell_type": "code",
      "execution_count": null,
      "id": "e2eb937b",
      "metadata": {
        "colab": {
          "base_uri": "https://localhost:8080/"
        },
        "id": "e2eb937b",
        "outputId": "33516359-a43d-4a63-e958-b53816a1464b"
      },
      "outputs": [
        {
          "output_type": "stream",
          "name": "stdout",
          "text": [
            "<class 'pandas.core.frame.DataFrame'>\n",
            "RangeIndex: 7043 entries, 0 to 7042\n",
            "Data columns (total 21 columns):\n",
            " #   Column            Non-Null Count  Dtype  \n",
            "---  ------            --------------  -----  \n",
            " 0   customerID        7043 non-null   object \n",
            " 1   gender            6034 non-null   object \n",
            " 2   SeniorCitizen     6034 non-null   float64\n",
            " 3   Partner           6034 non-null   object \n",
            " 4   Dependents        6034 non-null   object \n",
            " 5   tenure            7043 non-null   int64  \n",
            " 6   PhoneService      7043 non-null   object \n",
            " 7   MultipleLines     6034 non-null   object \n",
            " 8   InternetService   6034 non-null   object \n",
            " 9   OnlineSecurity    6034 non-null   object \n",
            " 10  OnlineBackup      6034 non-null   object \n",
            " 11  DeviceProtection  6034 non-null   object \n",
            " 12  TechSupport       6034 non-null   object \n",
            " 13  StreamingTV       6034 non-null   object \n",
            " 14  StreamingMovies   6034 non-null   object \n",
            " 15  Contract          7043 non-null   object \n",
            " 16  PaperlessBilling  7043 non-null   object \n",
            " 17  PaymentMethod     7043 non-null   object \n",
            " 18  MonthlyCharges    7043 non-null   float64\n",
            " 19  TotalCharges      7043 non-null   object \n",
            " 20  Churn             7043 non-null   object \n",
            "dtypes: float64(2), int64(1), object(18)\n",
            "memory usage: 1.1+ MB\n"
          ]
        }
      ],
      "source": [
        "df_telco.info()"
      ]
    },
    {
      "cell_type": "code",
      "execution_count": null,
      "id": "b943c13b",
      "metadata": {
        "colab": {
          "base_uri": "https://localhost:8080/"
        },
        "id": "b943c13b",
        "outputId": "efaa7873-9975-4ee7-8bca-1c5a71dcfd2e"
      },
      "outputs": [
        {
          "output_type": "execute_result",
          "data": {
            "text/plain": [
              "customerID             0\n",
              "gender              1009\n",
              "SeniorCitizen       1009\n",
              "Partner             1009\n",
              "Dependents          1009\n",
              "tenure                 0\n",
              "PhoneService           0\n",
              "MultipleLines       1009\n",
              "InternetService     1009\n",
              "OnlineSecurity      1009\n",
              "OnlineBackup        1009\n",
              "DeviceProtection    1009\n",
              "TechSupport         1009\n",
              "StreamingTV         1009\n",
              "StreamingMovies     1009\n",
              "Contract               0\n",
              "PaperlessBilling       0\n",
              "PaymentMethod          0\n",
              "MonthlyCharges         0\n",
              "TotalCharges           0\n",
              "Churn                  0\n",
              "dtype: int64"
            ]
          },
          "metadata": {},
          "execution_count": 4
        }
      ],
      "source": [
        "df_telco.isnull().sum()"
      ]
    },
    {
      "cell_type": "markdown",
      "id": "03f21e5c",
      "metadata": {
        "id": "03f21e5c"
      },
      "source": [
        "<hr>"
      ]
    },
    {
      "cell_type": "markdown",
      "id": "1813aed8",
      "metadata": {
        "id": "1813aed8"
      },
      "source": [
        "# Data Cleaning"
      ]
    },
    {
      "cell_type": "code",
      "execution_count": null,
      "id": "6cc32e1d",
      "metadata": {
        "id": "6cc32e1d"
      },
      "outputs": [],
      "source": [
        "# Handle missing value in data categorical\n",
        "df_telco['gender'] = df_telco.gender.fillna(\"Unknown\")\n",
        "df_telco['SeniorCitizen'] = df_telco.SeniorCitizen.fillna(\"Unknown\")\n",
        "df_telco['Partner'] = df_telco.Partner.fillna(\"Unknown\")\n",
        "df_telco['Dependents'] = df_telco.Dependents.fillna(\"Unknown\")\n",
        "df_telco['MultipleLines'] = df_telco.MultipleLines.fillna(\"Unknown\")\n",
        "df_telco['InternetService'] = df_telco.InternetService.fillna(\"Unknown\")\n",
        "df_telco['OnlineSecurity'] = df_telco.OnlineSecurity.fillna(\"Unknown\")\n",
        "df_telco['OnlineBackup'] = df_telco.OnlineBackup.fillna(\"Unknown\")\n",
        "df_telco['DeviceProtection'] = df_telco.DeviceProtection.fillna(\"Unknown\")\n",
        "df_telco['TechSupport'] = df_telco.TechSupport.fillna(\"Unknown\")\n",
        "df_telco['StreamingTV'] = df_telco.StreamingTV.fillna(\"Unknown\")\n",
        "df_telco['StreamingMovies'] = df_telco.StreamingMovies.fillna(\"Unknown\")"
      ]
    },
    {
      "cell_type": "code",
      "execution_count": null,
      "id": "3467051e",
      "metadata": {
        "colab": {
          "base_uri": "https://localhost:8080/"
        },
        "id": "3467051e",
        "outputId": "8e5caa05-9a63-4a67-d117-35ac3f0a8f62"
      },
      "outputs": [
        {
          "output_type": "stream",
          "name": "stdout",
          "text": [
            "<class 'pandas.core.frame.DataFrame'>\n",
            "RangeIndex: 7043 entries, 0 to 7042\n",
            "Data columns (total 21 columns):\n",
            " #   Column            Non-Null Count  Dtype  \n",
            "---  ------            --------------  -----  \n",
            " 0   customerID        7043 non-null   object \n",
            " 1   gender            7043 non-null   object \n",
            " 2   SeniorCitizen     7043 non-null   object \n",
            " 3   Partner           7043 non-null   object \n",
            " 4   Dependents        7043 non-null   object \n",
            " 5   tenure            7043 non-null   int64  \n",
            " 6   PhoneService      7043 non-null   object \n",
            " 7   MultipleLines     7043 non-null   object \n",
            " 8   InternetService   7043 non-null   object \n",
            " 9   OnlineSecurity    7043 non-null   object \n",
            " 10  OnlineBackup      7043 non-null   object \n",
            " 11  DeviceProtection  7043 non-null   object \n",
            " 12  TechSupport       7043 non-null   object \n",
            " 13  StreamingTV       7043 non-null   object \n",
            " 14  StreamingMovies   7043 non-null   object \n",
            " 15  Contract          7043 non-null   object \n",
            " 16  PaperlessBilling  7043 non-null   object \n",
            " 17  PaymentMethod     7043 non-null   object \n",
            " 18  MonthlyCharges    7043 non-null   float64\n",
            " 19  TotalCharges      7043 non-null   object \n",
            " 20  Churn             7043 non-null   object \n",
            "dtypes: float64(1), int64(1), object(19)\n",
            "memory usage: 1.1+ MB\n"
          ]
        }
      ],
      "source": [
        "df_telco.info()"
      ]
    },
    {
      "cell_type": "code",
      "execution_count": null,
      "id": "e48a2c9f",
      "metadata": {
        "id": "e48a2c9f"
      },
      "outputs": [],
      "source": [
        "# Convert data type object to float\n",
        "df_telco['TotalCharges'] = pd.to_numeric(df_telco['TotalCharges'], errors='coerce')"
      ]
    },
    {
      "cell_type": "code",
      "execution_count": null,
      "id": "c85f73a2",
      "metadata": {
        "colab": {
          "base_uri": "https://localhost:8080/"
        },
        "id": "c85f73a2",
        "outputId": "55c202be-b233-4ea1-eb39-1fb145648c3b"
      },
      "outputs": [
        {
          "output_type": "execute_result",
          "data": {
            "text/plain": [
              "customerID           0\n",
              "gender               0\n",
              "SeniorCitizen        0\n",
              "Partner              0\n",
              "Dependents           0\n",
              "tenure               0\n",
              "PhoneService         0\n",
              "MultipleLines        0\n",
              "InternetService      0\n",
              "OnlineSecurity       0\n",
              "OnlineBackup         0\n",
              "DeviceProtection     0\n",
              "TechSupport          0\n",
              "StreamingTV          0\n",
              "StreamingMovies      0\n",
              "Contract             0\n",
              "PaperlessBilling     0\n",
              "PaymentMethod        0\n",
              "MonthlyCharges       0\n",
              "TotalCharges        11\n",
              "Churn                0\n",
              "dtype: int64"
            ]
          },
          "metadata": {},
          "execution_count": 8
        }
      ],
      "source": [
        "df_telco.isnull().sum()"
      ]
    },
    {
      "cell_type": "code",
      "execution_count": null,
      "id": "185a69c5",
      "metadata": {
        "colab": {
          "base_uri": "https://localhost:8080/",
          "height": 279
        },
        "id": "185a69c5",
        "outputId": "a07424c3-5fd4-48eb-f43b-ee3d92d64e62"
      },
      "outputs": [
        {
          "output_type": "display_data",
          "data": {
            "text/plain": [
              "<Figure size 432x288 with 1 Axes>"
            ],
            "image/png": "[encoded data removed]"
          },
          "metadata": {
            "needs_background": "light"
          }
        }
      ],
      "source": [
        "# sns.set_style('whitegrid')\n",
        "sns.distplot(df_telco['TotalCharges']);"
      ]
    },
    {
      "cell_type": "code",
      "execution_count": null,
      "id": "d8df7e8a",
      "metadata": {
        "id": "d8df7e8a"
      },
      "outputs": [],
      "source": [
        "# Handle missing value in numeric\n",
        "val_med = df_telco['TotalCharges'].median()\n",
        "df_telco['TotalCharges'] = df_telco['TotalCharges'].fillna(val_med)"
      ]
    },
    {
      "cell_type": "code",
      "execution_count": null,
      "id": "c15c7455",
      "metadata": {
        "id": "c15c7455"
      },
      "outputs": [],
      "source": [
        "# drop customerID -> identifier\n",
        "df_telco.drop(['customerID'], axis=1, inplace=True)"
      ]
    },
    {
      "cell_type": "code",
      "execution_count": null,
      "id": "d1c58f27",
      "metadata": {
        "colab": {
          "base_uri": "https://localhost:8080/"
        },
        "id": "d1c58f27",
        "outputId": "316c1564-0946-4962-ffc3-bb0530fefb08"
      },
      "outputs": [
        {
          "output_type": "stream",
          "name": "stdout",
          "text": [
            "<class 'pandas.core.frame.DataFrame'>\n",
            "RangeIndex: 7043 entries, 0 to 7042\n",
            "Data columns (total 20 columns):\n",
            " #   Column            Non-Null Count  Dtype  \n",
            "---  ------            --------------  -----  \n",
            " 0   gender            7043 non-null   object \n",
            " 1   SeniorCitizen     7043 non-null   object \n",
            " 2   Partner           7043 non-null   object \n",
            " 3   Dependents        7043 non-null   object \n",
            " 4   tenure            7043 non-null   int64  \n",
            " 5   PhoneService      7043 non-null   object \n",
            " 6   MultipleLines     7043 non-null   object \n",
            " 7   InternetService   7043 non-null   object \n",
            " 8   OnlineSecurity    7043 non-null   object \n",
            " 9   OnlineBackup      7043 non-null   object \n",
            " 10  DeviceProtection  7043 non-null   object \n",
            " 11  TechSupport       7043 non-null   object \n",
            " 12  StreamingTV       7043 non-null   object \n",
            " 13  StreamingMovies   7043 non-null   object \n",
            " 14  Contract          7043 non-null   object \n",
            " 15  PaperlessBilling  7043 non-null   object \n",
            " 16  PaymentMethod     7043 non-null   object \n",
            " 17  MonthlyCharges    7043 non-null   float64\n",
            " 18  TotalCharges      7043 non-null   float64\n",
            " 19  Churn             7043 non-null   object \n",
            "dtypes: float64(2), int64(1), object(17)\n",
            "memory usage: 1.1+ MB\n"
          ]
        }
      ],
      "source": [
        "df_telco.info()"
      ]
    },
    {
      "cell_type": "markdown",
      "source": [
        "* There are 14% row data that are null. Where data is null in the Gender, SeniorCitizen, Partner, Dependents, MultipleLines, InternetService, OnlineSecurity, OnlineBackup, DeviceProtection, TechSupport, StreamingTV and StreamingMovies columns. All of these columns store categorical data so to handle it by filling in the empty rows with unknown label.\n",
        "* Changed the data type from object to float in the TotalCharges column. There are 11 empty rows after changing the data type. To handle it must fill in the null rows with the median from the Total Charges column.\n",
        "* Delete the customer id column because it is an identifier.\n",
        "\n"
      ],
      "metadata": {
        "id": "0lI242ZUg2_Q"
      },
      "id": "0lI242ZUg2_Q"
    },
    {
      "cell_type": "markdown",
      "source": [
        "\n",
        "\n",
        "---\n",
        "\n"
      ],
      "metadata": {
        "id": "C5HvSBjghC2T"
      },
      "id": "C5HvSBjghC2T"
    },
    {
      "cell_type": "markdown",
      "id": "6f95b282",
      "metadata": {
        "id": "6f95b282"
      },
      "source": [
        "# Exploratory Data Analysis"
      ]
    },
    {
      "cell_type": "code",
      "execution_count": null,
      "id": "e0587c17",
      "metadata": {
        "colab": {
          "base_uri": "https://localhost:8080/",
          "height": 300
        },
        "id": "e0587c17",
        "outputId": "bbf43260-41fa-42a7-e8b1-5312a992d048"
      },
      "outputs": [
        {
          "output_type": "execute_result",
          "data": {
            "text/plain": [
              "            tenure  MonthlyCharges  TotalCharges\n",
              "count  7043.000000     7043.000000   7043.000000\n",
              "mean     32.371149       64.761692   2281.916928\n",
              "std      24.559481       30.090047   2265.270398\n",
              "min       0.000000       18.250000     18.800000\n",
              "25%       9.000000       35.500000    402.225000\n",
              "50%      29.000000       70.350000   1397.475000\n",
              "75%      55.000000       89.850000   3786.600000\n",
              "max      72.000000      118.750000   8684.800000"
            ],
            "text/html": [
              "\n",
              "  <div id=\"df-65af8ee3-fe35-46d2-ba1a-265361626da2\">\n",
              "    <div class=\"colab-df-container\">\n",
              "      <div>\n",
              "<style scoped>\n",
              "    .dataframe tbody tr th:only-of-type {\n",
              "        vertical-align: middle;\n",
              "    }\n",
              "\n",
              "    .dataframe tbody tr th {\n",
              "        vertical-align: top;\n",
              "    }\n",
              "\n",
              "    .dataframe thead th {\n",
              "        text-align: right;\n",
              "    }\n",
              "</style>\n",
              "<table border=\"1\" class=\"dataframe\">\n",
              "  <thead>\n",
              "    <tr style=\"text-align: right;\">\n",
              "      <th></th>\n",
              "      <th>tenure</th>\n",
              "      <th>MonthlyCharges</th>\n",
              "      <th>TotalCharges</th>\n",
              "    </tr>\n",
              "  </thead>\n",
              "  <tbody>\n",
              "    <tr>\n",
              "      <th>count</th>\n",
              "      <td>7043.000000</td>\n",
              "      <td>7043.000000</td>\n",
              "      <td>7043.000000</td>\n",
              "    </tr>\n",
              "    <tr>\n",
              "      <th>mean</th>\n",
              "      <td>32.371149</td>\n",
              "      <td>64.761692</td>\n",
              "      <td>2281.916928</td>\n",
              "    </tr>\n",
              "    <tr>\n",
              "      <th>std</th>\n",
              "      <td>24.559481</td>\n",
              "      <td>30.090047</td>\n",
              "      <td>2265.270398</td>\n",
              "    </tr>\n",
              "    <tr>\n",
              "      <th>min</th>\n",
              "      <td>0.000000</td>\n",
              "      <td>18.250000</td>\n",
              "      <td>18.800000</td>\n",
              "    </tr>\n",
              "    <tr>\n",
              "      <th>25%</th>\n",
              "      <td>9.000000</td>\n",
              "      <td>35.500000</td>\n",
              "      <td>402.225000</td>\n",
              "    </tr>\n",
              "    <tr>\n",
              "      <th>50%</th>\n",
              "      <td>29.000000</td>\n",
              "      <td>70.350000</td>\n",
              "      <td>1397.475000</td>\n",
              "    </tr>\n",
              "    <tr>\n",
              "      <th>75%</th>\n",
              "      <td>55.000000</td>\n",
              "      <td>89.850000</td>\n",
              "      <td>3786.600000</td>\n",
              "    </tr>\n",
              "    <tr>\n",
              "      <th>max</th>\n",
              "      <td>72.000000</td>\n",
              "      <td>118.750000</td>\n",
              "      <td>8684.800000</td>\n",
              "    </tr>\n",
              "  </tbody>\n",
              "</table>\n",
              "</div>\n",
              "      <button class=\"colab-df-convert\" onclick=\"convertToInteractive('df-65af8ee3-fe35-46d2-ba1a-265361626da2')\"\n",
              "              title=\"Convert this dataframe to an interactive table.\"\n",
              "              style=\"display:none;\">\n",
              "        \n",
              "  <svg xmlns=\"http://www.w3.org/2000/svg\" height=\"24px\"viewBox=\"0 0 24 24\"\n",
              "       width=\"24px\">\n",
              "    <path d=\"M0 0h24v24H0V0z\" fill=\"none\"/>\n",
              "    <path d=\"M18.56 5.44l.94 2.06.94-2.06 2.06-.94-2.06-.94-.94-2.06-.94 2.06-2.06.94zm-11 1L8.5 8.5l.94-2.06 2.06-.94-2.06-.94L8.5 2.5l-.94 2.06-2.06.94zm10 10l.94 2.06.94-2.06 2.06-.94-2.06-.94-.94-2.06-.94 2.06-2.06.94z\"/><path d=\"M17.41 7.96l-1.37-1.37c-.4-.4-.92-.59-1.43-.59-.52 0-1.04.2-1.43.59L10.3 9.45l-7.72 7.72c-.78.78-.78 2.05 0 2.83L4 21.41c.39.39.9.59 1.41.59.51 0 1.02-.2 1.41-.59l7.78-7.78 2.81-2.81c.8-.78.8-2.07 0-2.86zM5.41 20L4 18.59l7.72-7.72 1.47 1.35L5.41 20z\"/>\n",
              "  </svg>\n",
              "      </button>\n",
              "      \n",
              "  <style>\n",
              "    .colab-df-container {\n",
              "      display:flex;\n",
              "      flex-wrap:wrap;\n",
              "      gap: 12px;\n",
              "    }\n",
              "\n",
              "    .colab-df-convert {\n",
              "      background-color: #E8F0FE;\n",
              "      border: none;\n",
              "      border-radius: 50%;\n",
              "      cursor: pointer;\n",
              "      display: none;\n",
              "      fill: #1967D2;\n",
              "      height: 32px;\n",
              "      padding: 0 0 0 0;\n",
              "      width: 32px;\n",
              "    }\n",
              "\n",
              "    .colab-df-convert:hover {\n",
              "      background-color: #E2EBFA;\n",
              "      box-shadow: 0px 1px 2px rgba(60, 64, 67, 0.3), 0px 1px 3px 1px rgba(60, 64, 67, 0.15);\n",
              "      fill: #174EA6;\n",
              "    }\n",
              "\n",
              "    [theme=dark] .colab-df-convert {\n",
              "      background-color: #3B4455;\n",
              "      fill: #D2E3FC;\n",
              "    }\n",
              "\n",
              "    [theme=dark] .colab-df-convert:hover {\n",
              "      background-color: #434B5C;\n",
              "      box-shadow: 0px 1px 3px 1px rgba(0, 0, 0, 0.15);\n",
              "      filter: drop-shadow(0px 1px 2px rgba(0, 0, 0, 0.3));\n",
              "      fill: #FFFFFF;\n",
              "    }\n",
              "  </style>\n",
              "\n",
              "      <script>\n",
              "        const buttonEl =\n",
              "          document.querySelector('#df-65af8ee3-fe35-46d2-ba1a-265361626da2 button.colab-df-convert');\n",
              "        buttonEl.style.display =\n",
              "          google.colab.kernel.accessAllowed ? 'block' : 'none';\n",
              "\n",
              "        async function convertToInteractive(key) {\n",
              "          const element = document.querySelector('#df-65af8ee3-fe35-46d2-ba1a-265361626da2');\n",
              "          const dataTable =\n",
              "            await google.colab.kernel.invokeFunction('convertToInteractive',\n",
              "                                                     [key], {});\n",
              "          if (!dataTable) return;\n",
              "\n",
              "          const docLinkHtml = 'Like what you see? Visit the ' +\n",
              "            '<a target=\"_blank\" href=https://colab.research.google.com/notebooks/data_table.ipynb>data table notebook</a>'\n",
              "            + ' to learn more about interactive tables.';\n",
              "          element.innerHTML = '';\n",
              "          dataTable['output_type'] = 'display_data';\n",
              "          await google.colab.output.renderOutput(dataTable, element);\n",
              "          const docLink = document.createElement('div');\n",
              "          docLink.innerHTML = docLinkHtml;\n",
              "          element.appendChild(docLink);\n",
              "        }\n",
              "      </script>\n",
              "    </div>\n",
              "  </div>\n",
              "  "
            ]
          },
          "metadata": {},
          "execution_count": 13
        }
      ],
      "source": [
        "df_telco.describe()"
      ]
    },
    {
      "cell_type": "code",
      "execution_count": null,
      "id": "c152750d",
      "metadata": {
        "colab": {
          "base_uri": "https://localhost:8080/",
          "height": 269
        },
        "id": "c152750d",
        "outputId": "3167d14c-7ec3-41c7-d929-944ecb86bfba"
      },
      "outputs": [
        {
          "output_type": "display_data",
          "data": {
            "text/plain": [
              "<Figure size 432x288 with 2 Axes>"
            ],
            "image/png": "[encoded data removed]"
          },
          "metadata": {
            "needs_background": "light"
          }
        }
      ],
      "source": [
        "# correlation\n",
        "plt.figure(figsize = (6,4))\n",
        "sns.heatmap(df_telco.corr(), annot=True);"
      ]
    },
    {
      "cell_type": "markdown",
      "source": [
        "#### Know how many customers that churn and not churn."
      ],
      "metadata": {
        "id": "sgBACEPHSq5q"
      },
      "id": "sgBACEPHSq5q"
    },
    {
      "cell_type": "code",
      "source": [
        "# Churn\n",
        "sns.countplot(x='Churn', data=df_telco, palette='Blues');"
      ],
      "metadata": {
        "colab": {
          "base_uri": "https://localhost:8080/",
          "height": 279
        },
        "id": "7tYrORCqLKuT",
        "outputId": "e53cce3e-6f5d-4e57-a901-b5a2e4a0c527"
      },
      "id": "7tYrORCqLKuT",
      "execution_count": null,
      "outputs": [
        {
          "output_type": "display_data",
          "data": {
            "text/plain": [
              "<Figure size 432x288 with 1 Axes>"
            ],
            "image/png": "[encoded data removed]"
          },
          "metadata": {
            "needs_background": "light"
          }
        }
      ]
    },
    {
      "cell_type": "code",
      "source": [
        "df_telco['Churn'].value_counts()"
      ],
      "metadata": {
        "colab": {
          "base_uri": "https://localhost:8080/"
        },
        "id": "dwxpOU-ifgUM",
        "outputId": "de291a32-9417-43c6-ff2f-dffd8d6198e5"
      },
      "id": "dwxpOU-ifgUM",
      "execution_count": null,
      "outputs": [
        {
          "output_type": "execute_result",
          "data": {
            "text/plain": [
              "No     5174\n",
              "Yes    1869\n",
              "Name: Churn, dtype: int64"
            ]
          },
          "metadata": {},
          "execution_count": 16
        }
      ]
    },
    {
      "cell_type": "markdown",
      "source": [
        "* From the chart above, can be seen that most customers are non-churn\n",
        "* From 7043 customers, 73.4% are non-churn with 5174 customer and 26.6% are churn with 1869 customer.\n"
      ],
      "metadata": {
        "id": "GL0F4tbrTEg1"
      },
      "id": "GL0F4tbrTEg1"
    },
    {
      "cell_type": "markdown",
      "source": [
        "#### Know how many customers that churn and not churn based on gender, senior citizen, have partner and dependents."
      ],
      "metadata": {
        "id": "UlyJOcuUTJaI"
      },
      "id": "UlyJOcuUTJaI"
    },
    {
      "cell_type": "code",
      "execution_count": null,
      "id": "cdeaafe6",
      "metadata": {
        "colab": {
          "base_uri": "https://localhost:8080/",
          "height": 360
        },
        "id": "cdeaafe6",
        "outputId": "f0538613-c1b9-469d-81ed-dc4d4bb7e8a1"
      },
      "outputs": [
        {
          "output_type": "stream",
          "name": "stdout",
          "text": [
            "         gender  Percent  Churn  Churn %  Not Churn  Not Churn %\n",
            "Male       3041     43.2    802     43.1       2239         43.3\n",
            "Female     2993     42.5    806     42.9       2187         42.3\n",
            "Unknown    1009     14.3    261     14.0        748         14.5\n"
          ]
        },
        {
          "output_type": "display_data",
          "data": {
            "text/plain": [
              "<Figure size 720x288 with 1 Axes>"
            ],
            "image/png": "[encoded data removed]"
          },
          "metadata": {
            "needs_background": "light"
          }
        }
      ],
      "source": [
        "# Gender\n",
        "df_Gender = pd.DataFrame(df_telco['gender'].value_counts())\n",
        "df_Gender['Percent'] = [round(i*100/sum(df_Gender.gender), 1) for i in df_Gender.gender]\n",
        "\n",
        "df_Gender_churn = pd.DataFrame(df_telco.gender[(df_telco['Churn'] == 'Yes')].value_counts())\n",
        "df_Gender['Churn'] = df_Gender_churn.gender\n",
        "df_Gender['Churn %'] = [round(i*100/sum(df_Gender_churn.gender), 1) for i in df_Gender_churn.gender]\n",
        "\n",
        "df_Gender_notChurn = pd.DataFrame(df_telco.gender[(df_telco['Churn'] == 'No')].value_counts())\n",
        "df_Gender['Not Churn'] = df_Gender_notChurn.gender\n",
        "df_Gender['Not Churn %'] = [round(i*100/sum(df_Gender_notChurn.gender), 1) for i in df_Gender_notChurn.gender]\n",
        "\n",
        "print(df_Gender)\n",
        "\n",
        "plt.figure(figsize=(10,4))\n",
        "ax = sns.countplot(x='gender', hue='Churn', data=df_telco, palette='Blues')\n",
        "plt.xlabel('Gender', fontsize=13)\n",
        "plt.ylabel('Number of Customers', fontsize=13)\n",
        "plt.ylim(0, 3000)\n",
        "for p in ax.patches:\n",
        "    ax.annotate((p.get_height()), (p.get_x()+0.1, p.get_height()+200), fontsize=10)"
      ]
    },
    {
      "cell_type": "markdown",
      "source": [
        "* From the chart above, can be seen that most customers by gender are male.\n",
        "* From 7043 customers, 43.2% are male, 42.5% are female and 14.3% are customers who are not known male or female.\n",
        "* For customers who churn by gender for male 43.1%, female 42.9% and unknown gender the customer 14%.\n",
        "* Then for customers who not churn by gender, 43.3% are male, 42.3% female and the unknown gender the customers 14%."
      ],
      "metadata": {
        "id": "yMO8_LWLgHQY"
      },
      "id": "yMO8_LWLgHQY"
    },
    {
      "cell_type": "code",
      "source": [
        "# SeniorCitizen\n",
        "df_SeniorCitizen = pd.DataFrame(df_telco['SeniorCitizen'].value_counts())\n",
        "df_SeniorCitizen['Percent'] = [round(i*100/sum(df_SeniorCitizen.SeniorCitizen), 1) for i in df_SeniorCitizen.SeniorCitizen]\n",
        "\n",
        "df_SeniorCitizen_churn = pd.DataFrame(df_telco.SeniorCitizen[(df_telco['Churn'] == 'Yes')].value_counts())\n",
        "df_SeniorCitizen['Churn'] = df_SeniorCitizen_churn.SeniorCitizen\n",
        "df_SeniorCitizen['Churn %'] = [round(i*100/sum(df_SeniorCitizen_churn.SeniorCitizen), 1) for i in df_SeniorCitizen_churn.SeniorCitizen]\n",
        "\n",
        "df_SeniorCitizen_notChurn = pd.DataFrame(df_telco.SeniorCitizen[(df_telco['Churn'] == 'No')].value_counts())\n",
        "df_SeniorCitizen['Not Churn'] = df_SeniorCitizen_notChurn.SeniorCitizen\n",
        "df_SeniorCitizen['Not Churn %'] = [round(i*100/sum(df_SeniorCitizen_notChurn.SeniorCitizen), 1) for i in df_SeniorCitizen_notChurn.SeniorCitizen]\n",
        "\n",
        "print(df_SeniorCitizen)\n",
        "\n",
        "plt.figure(figsize=(10,4))\n",
        "ax = sns.countplot(x='SeniorCitizen', hue='Churn', data=df_telco, palette='Blues')\n",
        "plt.xlabel('SeniorCitizen', fontsize=13)\n",
        "plt.ylabel('Number of Customers', fontsize=13)\n",
        "plt.ylim(0, 5000)\n",
        "for p in ax.patches:\n",
        "    ax.annotate((p.get_height()), (p.get_x()+0.1, p.get_height()+200), fontsize=10)"
      ],
      "metadata": {
        "colab": {
          "base_uri": "https://localhost:8080/",
          "height": 360
        },
        "id": "nw7zEzgm8Kg2",
        "outputId": "908a0347-7a8a-4252-9f4d-c2227c731f51"
      },
      "id": "nw7zEzgm8Kg2",
      "execution_count": null,
      "outputs": [
        {
          "output_type": "stream",
          "name": "stdout",
          "text": [
            "         SeniorCitizen  Percent  Churn  Churn %  Not Churn  Not Churn %\n",
            "0.0               5057     71.8   1197     64.0       3860         74.6\n",
            "Unknown           1009     14.3    261     22.0        748         14.5\n",
            "1.0                977     13.9    411     14.0        566         10.9\n"
          ]
        },
        {
          "output_type": "display_data",
          "data": {
            "text/plain": [
              "<Figure size 720x288 with 1 Axes>"
            ],
            "image/png": "[encoded data removed]"
          },
          "metadata": {
            "needs_background": "light"
          }
        }
      ]
    },
    {
      "cell_type": "markdown",
      "source": [
        "* From the chart above It can be seen that non-churn customers are dominated by non-senior citizens with 74.6% and 26.4% senior citizens. \n",
        "* From 7K customers, about 71..8%  are not senior citizens, around 13.9% customers are senior citizens and 14.3% is not known whether they are senior citizens or not.\n",
        "* The total churn of not senior citizens is only around 1.1K or 16.9% of  customers, but the total churn from senior citizens is almost half of the total senior citizens.\n"
      ],
      "metadata": {
        "id": "YuuIcOEn-GL6"
      },
      "id": "YuuIcOEn-GL6"
    },
    {
      "cell_type": "code",
      "source": [
        "# Partner\n",
        "df_Partner = pd.DataFrame(df_telco['Partner'].value_counts())\n",
        "df_Partner['Percent'] = [round(i*100/sum(df_Partner.Partner), 1) for i in df_Partner.Partner]\n",
        "\n",
        "df_Partner_churn = pd.DataFrame(df_telco.Partner[(df_telco['Churn'] == 'Yes')].value_counts())\n",
        "df_Partner['Churn'] = df_Partner_churn.Partner\n",
        "df_Partner['Churn %'] = [round(i*100/sum(df_Partner_churn.Partner), 1) for i in df_Partner_churn.Partner]\n",
        "\n",
        "df_Partner_notChurn = pd.DataFrame(df_telco.Partner[(df_telco['Churn'] == 'No')].value_counts())\n",
        "df_Partner['Not Churn'] = df_Partner_notChurn.Partner\n",
        "df_Partner['Not Churn %'] = [round(i*100/sum(df_Partner_notChurn.Partner), 1) for i in df_Partner_notChurn.Partner]\n",
        "\n",
        "print(df_Partner)\n",
        "\n",
        "plt.figure(figsize=(10,4))\n",
        "ax = sns.countplot(x='Partner', hue='Churn', data=df_telco, palette='Blues')\n",
        "plt.xlabel('Partner', fontsize=13)\n",
        "plt.ylabel('Number of Customers', fontsize=13)\n",
        "plt.ylim(0, 3000)\n",
        "for p in ax.patches:\n",
        "    ax.annotate((p.get_height()), (p.get_x()+0.1, p.get_height()+200), fontsize=10)"
      ],
      "metadata": {
        "colab": {
          "base_uri": "https://localhost:8080/",
          "height": 360
        },
        "id": "roUaVkl-9BuG",
        "outputId": "1e7ba8a2-acf5-4c59-a04d-f46c32d9f386"
      },
      "id": "roUaVkl-9BuG",
      "execution_count": null,
      "outputs": [
        {
          "output_type": "stream",
          "name": "stdout",
          "text": [
            "         Partner  Percent  Churn  Churn %  Not Churn  Not Churn %\n",
            "No          3111     44.2   1032     55.2       2079         45.4\n",
            "Yes         2923     41.5    576     30.8       2347         40.2\n",
            "Unknown     1009     14.3    261     14.0        748         14.5\n"
          ]
        },
        {
          "output_type": "display_data",
          "data": {
            "text/plain": [
              "<Figure size 720x288 with 1 Axes>"
            ],
            "image/png": "[encoded data removed]"
          },
          "metadata": {
            "needs_background": "light"
          }
        }
      ]
    },
    {
      "cell_type": "markdown",
      "source": [
        "* It can be seen that churn customers are 55.2% of customers who do not have partners. \n",
        "* Meanwhile customers who have partners, the total customers who churn only around 576 from 7K, or 8.17% of total customers .\n",
        "* Likewise with unknown customers whether having partner or not, which is only around 14% customers that churn from around 1K total unknown customers.\n"
      ],
      "metadata": {
        "id": "tCYG1HQk-TJr"
      },
      "id": "tCYG1HQk-TJr"
    },
    {
      "cell_type": "code",
      "source": [
        "# Dependents\n",
        "df_Dependents = pd.DataFrame(df_telco['Dependents'].value_counts())\n",
        "df_Dependents['Percent'] = [round(i*100/sum(df_Dependents.Dependents), 1) for i in df_Dependents.Dependents]\n",
        "\n",
        "df_Dependents_churn = pd.DataFrame(df_telco.Dependents[(df_telco['Churn'] == 'Yes')].value_counts())\n",
        "df_Dependents['Churn'] = df_Dependents_churn.Dependents\n",
        "df_Dependents['Churn %'] = [round(i*100/sum(df_Dependents_churn.Dependents), 1) for i in df_Dependents_churn.Dependents]\n",
        "\n",
        "df_Dependents_notChurn = pd.DataFrame(df_telco.Dependents[(df_telco['Churn'] == 'No')].value_counts())\n",
        "df_Dependents['Not Churn'] = df_Dependents_notChurn.Dependents\n",
        "df_Dependents['Not Churn %'] = [round(i*100/sum(df_Dependents_notChurn.Dependents), 1) for i in df_Dependents_notChurn.Dependents]\n",
        "\n",
        "print(df_Dependents)\n",
        "\n",
        "plt.figure(figsize=(10,4))\n",
        "ax = sns.countplot(x='Dependents', hue='Churn', data=df_telco, palette='Blues')\n",
        "plt.xlabel('Dependents', fontsize=13)\n",
        "plt.ylabel('Number of Customers', fontsize=13)\n",
        "plt.ylim(0, 4000)\n",
        "for p in ax.patches:\n",
        "    ax.annotate((p.get_height()), (p.get_x()+0.1, p.get_height()+200), fontsize=10)"
      ],
      "metadata": {
        "colab": {
          "base_uri": "https://localhost:8080/",
          "height": 360
        },
        "id": "e4Dj2R1H9h22",
        "outputId": "c78dc73b-2cc1-4762-c54c-30fbe779b115"
      },
      "id": "e4Dj2R1H9h22",
      "execution_count": null,
      "outputs": [
        {
          "output_type": "stream",
          "name": "stdout",
          "text": [
            "         Dependents  Percent  Churn  Churn %  Not Churn  Not Churn %\n",
            "No             4238     60.2   1326     70.9       2912         56.3\n",
            "Yes            1796     25.5    282     15.1       1514         29.3\n",
            "Unknown        1009     14.3    261     14.0        748         14.5\n"
          ]
        },
        {
          "output_type": "display_data",
          "data": {
            "text/plain": [
              "<Figure size 720x288 with 1 Axes>"
            ],
            "image/png": "[encoded data removed]"
          },
          "metadata": {
            "needs_background": "light"
          }
        }
      ]
    },
    {
      "cell_type": "markdown",
      "source": [
        "* From the chart above, can be seen that most customers are not dependents with 60.2%, 25.5% dependents and 14.3% are unknown..\n",
        "* For customers who are churn by dependents  are70.9% not dependents, 15.1 % are dependents  and 14% are unknown whether dependents or not.\n",
        "* For customers who are not churn by dependents  are 56.3% not dependents, 29.3 % are dependents  and 14.5% are unknown whether dependents or not.\n"
      ],
      "metadata": {
        "id": "fB1aScq0TUqE"
      },
      "id": "fB1aScq0TUqE"
    },
    {
      "cell_type": "markdown",
      "source": [
        "#### Know how many customers that churn and not churn based on contract, phone service, multiple lines, internet service, online security, online backup, device protection, tech support, streaming tv, streaming movies, paperless billing and payment method.\n",
        "\n"
      ],
      "metadata": {
        "id": "1mqy_kY2TnRC"
      },
      "id": "1mqy_kY2TnRC"
    },
    {
      "cell_type": "code",
      "source": [
        "# Phone Service\n",
        "df_PhoneService = pd.DataFrame(df_telco['PhoneService'].value_counts())\n",
        "df_PhoneService['Percent'] = [round(i*100/sum(df_PhoneService.PhoneService), 1) for i in df_PhoneService.PhoneService]\n",
        "\n",
        "df_PhoneService_churn = pd.DataFrame(df_telco.PhoneService[(df_telco['Churn'] == 'Yes')].value_counts())\n",
        "df_PhoneService['Churn'] = df_PhoneService_churn.PhoneService\n",
        "df_PhoneService['Churn %'] = [round(i*100/sum(df_PhoneService_churn.PhoneService), 1) for i in df_PhoneService_churn.PhoneService]\n",
        "\n",
        "df_PhoneService_notChurn = pd.DataFrame(df_telco.PhoneService[(df_telco['Churn'] == 'No')].value_counts())\n",
        "df_PhoneService['Not Churn'] = df_PhoneService_notChurn.PhoneService\n",
        "df_PhoneService['Not Churn %'] = [round(i*100/sum(df_PhoneService_notChurn.PhoneService), 1) for i in df_PhoneService_notChurn.PhoneService]\n",
        "\n",
        "print(df_PhoneService)\n",
        "\n",
        "plt.figure(figsize=(7,4))\n",
        "ax = sns.countplot(x='PhoneService', hue='Churn', data=df_telco, palette='Blues')\n",
        "plt.xlabel('Phone Service', fontsize=13)\n",
        "plt.ylabel('Number of Customers', fontsize=13)\n",
        "plt.ylim(0, 6000)\n",
        "for p in ax.patches:\n",
        "    ax.annotate((p.get_height()), (p.get_x()+0.1, p.get_height()+200), fontsize=10)"
      ],
      "metadata": {
        "colab": {
          "base_uri": "https://localhost:8080/",
          "height": 341
        },
        "id": "JZiRuCZX-hvq",
        "outputId": "d41720e5-df5c-4762-d747-85c345f00552"
      },
      "id": "JZiRuCZX-hvq",
      "execution_count": null,
      "outputs": [
        {
          "output_type": "stream",
          "name": "stdout",
          "text": [
            "     PhoneService  Percent  Churn  Churn %  Not Churn  Not Churn %\n",
            "Yes          6361     90.3   1699     90.9       4662         90.1\n",
            "No            682      9.7    170      9.1        512          9.9\n"
          ]
        },
        {
          "output_type": "display_data",
          "data": {
            "text/plain": [
              "<Figure size 504x288 with 1 Axes>"
            ],
            "image/png": "[encoded data removed]"
          },
          "metadata": {
            "needs_background": "light"
          }
        }
      ]
    },
    {
      "cell_type": "markdown",
      "source": [
        "* From the chart above, can be seen that the most customers using phone services\n",
        "* From 7043 customers, 90.3% using phone services and 9.7% not using phone services\n",
        "* For customers who churn by phone services, 90.9% using phone services and 9.1% not using phone services\n",
        "* For customers who not churn by phone services, 90.1% using phone services and 9.9% not using phone services\n"
      ],
      "metadata": {
        "id": "DWFVcaAx4rHN"
      },
      "id": "DWFVcaAx4rHN"
    },
    {
      "cell_type": "code",
      "source": [
        "# Multiple Lines\n",
        "df_MultipleLines = pd.DataFrame(df_telco['MultipleLines'].value_counts())\n",
        "df_MultipleLines['Percent'] = [round(i*100/sum(df_MultipleLines.MultipleLines), 1) for i in df_MultipleLines.MultipleLines]\n",
        "\n",
        "df_MultipleLines_churn = pd.DataFrame(df_telco.MultipleLines[(df_telco['Churn'] == 'Yes')].value_counts())\n",
        "df_MultipleLines['Churn'] = df_MultipleLines_churn.MultipleLines\n",
        "df_MultipleLines['Churn %'] = [round(i*100/sum(df_MultipleLines_churn.MultipleLines), 1) for i in df_MultipleLines_churn.MultipleLines]\n",
        "\n",
        "df_MultipleLines_notChurn = pd.DataFrame(df_telco.MultipleLines[(df_telco['Churn'] == 'No')].value_counts())\n",
        "df_MultipleLines['Not Churn'] = df_MultipleLines_notChurn.MultipleLines\n",
        "df_MultipleLines['Not Churn %'] = [round(i*100/sum(df_MultipleLines_notChurn.MultipleLines), 1) for i in df_MultipleLines_notChurn.MultipleLines]\n",
        "\n",
        "print(df_MultipleLines)\n",
        "\n",
        "plt.figure(figsize=(10,4))\n",
        "ax = sns.countplot(x='MultipleLines', hue='Churn', data=df_telco, palette='Blues')\n",
        "plt.xlabel('Multiple Lines', fontsize=13)\n",
        "plt.ylabel('Number of Customers', fontsize=13)\n",
        "plt.ylim(0, 3500)\n",
        "for p in ax.patches:\n",
        "    ax.annotate((p.get_height()), (p.get_x()+0.1, p.get_height()+200), fontsize=10)"
      ],
      "metadata": {
        "colab": {
          "base_uri": "https://localhost:8080/",
          "height": 489
        },
        "id": "Vw3WzlxlAb_B",
        "outputId": "d75fc5cd-0e37-415e-a759-857c42209f15"
      },
      "id": "Vw3WzlxlAb_B",
      "execution_count": null,
      "outputs": [
        {
          "output_type": "stream",
          "name": "stdout",
          "text": [
            "                  MultipleLines  Percent  Churn  Churn %  Not Churn  \\\n",
            "No                         2908     41.3    724     39.4       2184   \n",
            "Yes                        2537     36.0    737     38.7       1800   \n",
            "Unknown                    1009     14.3    261     14.0        748   \n",
            "No phone service            589      8.4    147      7.9        442   \n",
            "\n",
            "                  Not Churn %  \n",
            "No                       42.2  \n",
            "Yes                      34.8  \n",
            "Unknown                  14.5  \n",
            "No phone service          8.5  \n"
          ]
        },
        {
          "output_type": "display_data",
          "data": {
            "text/plain": [
              "<Figure size 720x288 with 1 Axes>"
            ],
            "image/png": "[encoded data removed]"
          },
          "metadata": {
            "needs_background": "light"
          }
        }
      ]
    },
    {
      "cell_type": "markdown",
      "source": [
        "* From the chart above, can be seen that the most customers using multiple lines\n",
        "* From 7043 customers, 41.3% using multiple lines, 36% not using multiple lines, 14.3% unknown using multiple lines or not and 8.4% not using phone service\n",
        "* For customers who churn by multiple lines, 39.4% not using multiple line, 38.7% using multiple lines, 14% unknown using multiple lines or not and 7.9% not using phone service\n",
        "* For customers who not churn by multiple lines, 42.2% not using multiple line, 34.8% using multiple lines, 14.5% unknown using multiple lines or not and 8.5% not using phone service\n"
      ],
      "metadata": {
        "id": "MVhuDiZg42cV"
      },
      "id": "MVhuDiZg42cV"
    },
    {
      "cell_type": "code",
      "source": [
        "# Internet Service\n",
        "df_InternetService = pd.DataFrame(df_telco['InternetService'].value_counts())\n",
        "df_InternetService['Percent'] = [round(i*100/sum(df_InternetService.InternetService), 1) for i in df_InternetService.InternetService]\n",
        "\n",
        "df_InternetService_churn = pd.DataFrame(df_telco.InternetService[(df_telco['Churn'] == 'Yes')].value_counts())\n",
        "df_InternetService['Churn'] = df_InternetService_churn.InternetService\n",
        "df_InternetService['Churn %'] = [round(i*100/sum(df_InternetService_churn.InternetService), 1) for i in df_InternetService_churn.InternetService]\n",
        "\n",
        "df_InternetService_notChurn = pd.DataFrame(df_telco.InternetService[(df_telco['Churn'] == 'No')].value_counts())\n",
        "df_InternetService['Not Churn'] = df_InternetService_notChurn.InternetService\n",
        "df_InternetService['Not Churn %'] = [round(i*100/sum(df_InternetService_notChurn.InternetService), 1) for i in df_InternetService_notChurn.InternetService]\n",
        "\n",
        "print(df_InternetService)\n",
        "\n",
        "plt.figure(figsize=(10,4))\n",
        "ax = sns.countplot(x='InternetService', hue='Churn', data=df_telco, palette='Blues')\n",
        "plt.xlabel('Internet Service', fontsize=13)\n",
        "plt.ylabel('Number of Customers', fontsize=13)\n",
        "plt.ylim(0, 3000)\n",
        "for p in ax.patches:\n",
        "    ax.annotate((p.get_height()), (p.get_x()+0.1, p.get_height()+200), fontsize=10)"
      ],
      "metadata": {
        "colab": {
          "base_uri": "https://localhost:8080/",
          "height": 378
        },
        "id": "7kG-YwGEA9c7",
        "outputId": "64fa5b0e-43dc-4d9c-8db8-915f1abc5a1c"
      },
      "id": "7kG-YwGEA9c7",
      "execution_count": null,
      "outputs": [
        {
          "output_type": "stream",
          "name": "stdout",
          "text": [
            "             InternetService  Percent  Churn  Churn %  Not Churn  Not Churn %\n",
            "Fiber optic             2621     37.2   1109     59.3       1512         32.7\n",
            "DSL                     2092     29.7    401     21.5       1691         29.2\n",
            "No                      1321     18.8     98     14.0       1223         23.6\n",
            "Unknown                 1009     14.3    261      5.2        748         14.5\n"
          ]
        },
        {
          "output_type": "display_data",
          "data": {
            "text/plain": [
              "<Figure size 720x288 with 1 Axes>"
            ],
            "image/png": "[encoded data removed]"
          },
          "metadata": {
            "needs_background": "light"
          }
        }
      ]
    },
    {
      "cell_type": "markdown",
      "source": [
        "* From the chart above, can be seen that the most customers using fiber optic to their internet services\n",
        "* From 7043 customers, 37.2% using fiber optic, 29.7% using DSL, 18.8% not using internet services and 14.3% unknown using internet services or not\n",
        "* For customers who churn by internet services, 59.3% using fiber optic, 21.5% using DSL, 14% not using internet services and 5.2% unknown using internet services or not\n",
        "* For customers who not churn by internet services, 32.7% using fiber optic, 29.2% using DSL, 23.6% not using internet services and 14.5% unknown using internet services or not\n"
      ],
      "metadata": {
        "id": "kGUnpmLa5DUW"
      },
      "id": "kGUnpmLa5DUW"
    },
    {
      "cell_type": "code",
      "source": [
        "# Online Security\n",
        "df_OnlineSecurity = pd.DataFrame(df_telco['OnlineSecurity'].value_counts())\n",
        "df_OnlineSecurity['Percent'] = [round(i*100/sum(df_OnlineSecurity.OnlineSecurity), 1) for i in df_OnlineSecurity.OnlineSecurity]\n",
        "\n",
        "df_OnlineSecurity_churn = pd.DataFrame(df_telco.OnlineSecurity[(df_telco['Churn'] == 'Yes')].value_counts())\n",
        "df_OnlineSecurity['Churn'] = df_OnlineSecurity_churn.OnlineSecurity\n",
        "df_OnlineSecurity['Churn %'] = [round(i*100/sum(df_OnlineSecurity_churn.OnlineSecurity), 1) for i in df_OnlineSecurity_churn.OnlineSecurity]\n",
        "\n",
        "df_OnlineSecurity_notChurn = pd.DataFrame(df_telco.OnlineSecurity[(df_telco['Churn'] == 'No')].value_counts())\n",
        "df_OnlineSecurity['Not Churn'] = df_OnlineSecurity_notChurn.OnlineSecurity\n",
        "df_OnlineSecurity['Not Churn %'] = [round(i*100/sum(df_OnlineSecurity_notChurn.OnlineSecurity), 1) for i in df_OnlineSecurity_notChurn.OnlineSecurity]\n",
        "\n",
        "print(df_OnlineSecurity)\n",
        "\n",
        "plt.figure(figsize=(10,4))\n",
        "ax = sns.countplot(x='OnlineSecurity', hue='Churn', data=df_telco, palette='Blues')\n",
        "plt.xlabel('Online Security', fontsize=13)\n",
        "plt.ylabel('Number of Customers', fontsize=13)\n",
        "plt.ylim(0, 2500)\n",
        "for p in ax.patches:\n",
        "    ax.annotate((p.get_height()), (p.get_x()+0.1, p.get_height()+200), fontsize=10)"
      ],
      "metadata": {
        "colab": {
          "base_uri": "https://localhost:8080/",
          "height": 489
        },
        "id": "1lXbvXhxBjnS",
        "outputId": "b7d054e0-7f00-4918-92ef-65cc617a7603"
      },
      "id": "1lXbvXhxBjnS",
      "execution_count": null,
      "outputs": [
        {
          "output_type": "stream",
          "name": "stdout",
          "text": [
            "                     OnlineSecurity  Percent  Churn  Churn %  Not Churn  \\\n",
            "No                             2993     42.5   1259     67.4       1734   \n",
            "Yes                            1720     24.4    251     14.0       1469   \n",
            "No internet service            1321     18.8     98     13.4       1223   \n",
            "Unknown                        1009     14.3    261      5.2        748   \n",
            "\n",
            "                     Not Churn %  \n",
            "No                          33.5  \n",
            "Yes                         28.4  \n",
            "No internet service         23.6  \n",
            "Unknown                     14.5  \n"
          ]
        },
        {
          "output_type": "display_data",
          "data": {
            "text/plain": [
              "<Figure size 720x288 with 1 Axes>"
            ],
            "image/png": "[encoded data removed]"
          },
          "metadata": {
            "needs_background": "light"
          }
        }
      ]
    },
    {
      "cell_type": "markdown",
      "source": [
        "* From the chart above, can be seen that the most customers not using online security\n",
        "* From 7043 customers, 42.5% not using online security, 24.4% using online security, 18.8% not using internet services and 14.3% unknown using online security or not\n",
        "* For customers who churn by online security, 67.4% not using online security, 14% using online security, 13.4% not using internet services and 5.2% unknown using online security or not\n",
        "* For customers who not churn by internet services, 33.5% not using online security, 28.4% using online security, 23.6% not using internet services and 14.5% unknown using online security or not\n"
      ],
      "metadata": {
        "id": "yeZactdq5Pou"
      },
      "id": "yeZactdq5Pou"
    },
    {
      "cell_type": "code",
      "source": [
        "# Online Backup\n",
        "df_OnlineBackup = pd.DataFrame(df_telco['OnlineBackup'].value_counts())\n",
        "df_OnlineBackup['Percent'] = [round(i*100/sum(df_OnlineBackup.OnlineBackup), 1) for i in df_OnlineBackup.OnlineBackup]\n",
        "\n",
        "df_OnlineBackup_churn = pd.DataFrame(df_telco.OnlineBackup[(df_telco['Churn'] == 'Yes')].value_counts())\n",
        "df_OnlineBackup['Churn'] = df_OnlineBackup_churn.OnlineBackup\n",
        "df_OnlineBackup['Churn %'] = [round(i*100/sum(df_OnlineBackup_churn.OnlineBackup), 1) for i in df_OnlineBackup_churn.OnlineBackup]\n",
        "\n",
        "df_OnlineBackup_notChurn = pd.DataFrame(df_telco.OnlineBackup[(df_telco['Churn'] == 'No')].value_counts())\n",
        "df_OnlineBackup['Not Churn'] = df_OnlineBackup_notChurn.OnlineBackup\n",
        "df_OnlineBackup['Not Churn %'] = [round(i*100/sum(df_OnlineBackup_notChurn.OnlineBackup), 1) for i in df_OnlineBackup_notChurn.OnlineBackup]\n",
        "\n",
        "print(df_OnlineBackup)\n",
        "\n",
        "plt.figure(figsize=(10,4))\n",
        "ax = sns.countplot(x='OnlineBackup', hue='Churn', data=df_telco, palette='Blues')\n",
        "plt.xlabel('Online Backup', fontsize=13)\n",
        "plt.ylabel('Number of Customers', fontsize=13)\n",
        "plt.ylim(0, 2500)\n",
        "for p in ax.patches:\n",
        "    ax.annotate((p.get_height()), (p.get_x()+0.1, p.get_height()+200), fontsize=10)"
      ],
      "metadata": {
        "colab": {
          "base_uri": "https://localhost:8080/",
          "height": 489
        },
        "id": "Z6X-O0oRCduz",
        "outputId": "b77db1f0-4715-495c-c7c7-c3bfbe8e0d3f"
      },
      "id": "Z6X-O0oRCduz",
      "execution_count": null,
      "outputs": [
        {
          "output_type": "stream",
          "name": "stdout",
          "text": [
            "                     OnlineBackup  Percent  Churn  Churn %  Not Churn  \\\n",
            "No                           2643     37.5   1067     57.1       1576   \n",
            "Yes                          2070     29.4    443     23.7       1627   \n",
            "No internet service          1321     18.8     98     14.0       1223   \n",
            "Unknown                      1009     14.3    261      5.2        748   \n",
            "\n",
            "                     Not Churn %  \n",
            "No                          31.4  \n",
            "Yes                         30.5  \n",
            "No internet service         23.6  \n",
            "Unknown                     14.5  \n"
          ]
        },
        {
          "output_type": "display_data",
          "data": {
            "text/plain": [
              "<Figure size 720x288 with 1 Axes>"
            ],
            "image/png": "[encoded data removed]"
          },
          "metadata": {
            "needs_background": "light"
          }
        }
      ]
    },
    {
      "cell_type": "markdown",
      "source": [
        "* From the chart above, there are 4 category of customer based on Online Backup services.\n",
        "* From 7043 customers, customers with who take online backup are 2070 customers or 29.4%. Cusstomer who don't take online backup are 2643 or 37.5%. Customers who don't have internet service are 1321 or 18.8%. Customers with unknown data are 1009 or 14.3%.\n",
        "* For customers who churn, most of them don't take Online Backup service. We can see that from the chart, where there are 1067 or 57.1% customers.\n",
        "* Then for customers who not churn most of them take Online Backup service. we can see from the chart, where there are 1627 or 31.4% customers. "
      ],
      "metadata": {
        "id": "D-TL_Zj8dK2h"
      },
      "id": "D-TL_Zj8dK2h"
    },
    {
      "cell_type": "code",
      "source": [
        "# Device Protection\n",
        "df_DeviceProtection = pd.DataFrame(df_telco['DeviceProtection'].value_counts())\n",
        "df_DeviceProtection['Percent'] = [round(i*100/sum(df_DeviceProtection.DeviceProtection), 1) for i in df_DeviceProtection.DeviceProtection]\n",
        "\n",
        "df_DeviceProtection_churn = pd.DataFrame(df_telco.DeviceProtection[(df_telco['Churn'] == 'Yes')].value_counts())\n",
        "df_DeviceProtection['Churn'] = df_DeviceProtection_churn.DeviceProtection\n",
        "df_DeviceProtection['Churn %'] = [round(i*100/sum(df_DeviceProtection_churn.DeviceProtection), 1) for i in df_DeviceProtection_churn.DeviceProtection]\n",
        "\n",
        "df_DeviceProtection_notChurn = pd.DataFrame(df_telco.DeviceProtection[(df_telco['Churn'] == 'No')].value_counts())\n",
        "df_DeviceProtection['Not Churn'] = df_DeviceProtection_notChurn.DeviceProtection\n",
        "df_DeviceProtection['Not Churn %'] = [round(i*100/sum(df_DeviceProtection_notChurn.DeviceProtection), 1) for i in df_DeviceProtection_notChurn.DeviceProtection]\n",
        "\n",
        "print(df_DeviceProtection)\n",
        "\n",
        "plt.figure(figsize=(10,4))\n",
        "ax = sns.countplot(x='DeviceProtection', hue='Churn', data=df_telco, palette='Blues')\n",
        "plt.xlabel('Device Protection', fontsize=13)\n",
        "plt.ylabel('Number of Customers', fontsize=13)\n",
        "plt.ylim(0, 2500)\n",
        "for p in ax.patches:\n",
        "    ax.annotate((p.get_height()), (p.get_x()+0.1, p.get_height()+200), fontsize=10)"
      ],
      "metadata": {
        "colab": {
          "base_uri": "https://localhost:8080/",
          "height": 489
        },
        "id": "-o7ovqPLDGz1",
        "outputId": "d020e329-d4aa-4b12-ec95-4c32d53d194f"
      },
      "id": "-o7ovqPLDGz1",
      "execution_count": null,
      "outputs": [
        {
          "output_type": "stream",
          "name": "stdout",
          "text": [
            "                     DeviceProtection  Percent  Churn  Churn %  Not Churn  \\\n",
            "No                               2643     37.5   1043     55.8       1600   \n",
            "Yes                              2070     29.4    467     25.0       1603   \n",
            "No internet service              1321     18.8     98     14.0       1223   \n",
            "Unknown                          1009     14.3    261      5.2        748   \n",
            "\n",
            "                     Not Churn %  \n",
            "No                          31.0  \n",
            "Yes                         30.9  \n",
            "No internet service         23.6  \n",
            "Unknown                     14.5  \n"
          ]
        },
        {
          "output_type": "display_data",
          "data": {
            "text/plain": [
              "<Figure size 720x288 with 1 Axes>"
            ],
            "image/png": "[encoded data removed]"
          },
          "metadata": {
            "needs_background": "light"
          }
        }
      ]
    },
    {
      "cell_type": "markdown",
      "source": [
        "* From the chart above, there are 4 category of customer based on Device Protection services.\n",
        "* From 7043 customers, customers with who take Device Protection are 2070 customers or 29.4%. Cusstomer who don't take Device Protection are 2643 or 37.5%. Customers who don't have internet service are 1321 or 18.8%. Customers with unknown data are 1009 or 14.3%.\n",
        "* For customers who churn, most of them don't take Device Protection service. We can see that from the chart, where there are 1043 or 55.8% customers.\n",
        "* Then for customers who not churn most of them take Device Protection service. we can see from the chart, where there are 1603 or 31.0% customers. "
      ],
      "metadata": {
        "id": "kDAILt2Vz61K"
      },
      "id": "kDAILt2Vz61K"
    },
    {
      "cell_type": "code",
      "source": [
        "# Tech Support\n",
        "df_TechSupport = pd.DataFrame(df_telco['TechSupport'].value_counts())\n",
        "df_TechSupport['Percent'] = [round(i*100/sum(df_TechSupport.TechSupport), 1) for i in df_TechSupport.TechSupport]\n",
        "\n",
        "df_TechSupport_churn = pd.DataFrame(df_telco.TechSupport[(df_telco['Churn'] == 'Yes')].value_counts())\n",
        "df_TechSupport['Churn'] = df_TechSupport_churn.TechSupport\n",
        "df_TechSupport['Churn %'] = [round(i*100/sum(df_TechSupport_churn.TechSupport), 1) for i in df_TechSupport_churn.TechSupport]\n",
        "\n",
        "df_TechSupport_notChurn = pd.DataFrame(df_telco.TechSupport[(df_telco['Churn'] == 'No')].value_counts())\n",
        "df_TechSupport['Not Churn'] = df_TechSupport_notChurn.TechSupport\n",
        "df_TechSupport['Not Churn %'] = [round(i*100/sum(df_TechSupport_notChurn.TechSupport), 1) for i in df_TechSupport_notChurn.TechSupport]\n",
        "\n",
        "print(df_TechSupport)\n",
        "\n",
        "plt.figure(figsize=(10,4))\n",
        "ax = sns.countplot(x='TechSupport', hue='Churn', data=df_telco, palette='Blues')\n",
        "plt.xlabel('Tech Support', fontsize=13)\n",
        "plt.ylabel('Number of Customers', fontsize=13)\n",
        "plt.ylim(0, 2500)\n",
        "for p in ax.patches:\n",
        "    ax.annotate((p.get_height()), (p.get_x()+0.1, p.get_height()+200), fontsize=10)"
      ],
      "metadata": {
        "colab": {
          "base_uri": "https://localhost:8080/",
          "height": 489
        },
        "id": "kYdH6TFJDqhd",
        "outputId": "d36bfd66-9004-4d23-9805-a45fec8ec4e6"
      },
      "id": "kYdH6TFJDqhd",
      "execution_count": null,
      "outputs": [
        {
          "output_type": "stream",
          "name": "stdout",
          "text": [
            "                     TechSupport  Percent  Churn  Churn %  Not Churn  \\\n",
            "No                          2973     42.2   1235     66.1       1738   \n",
            "Yes                         1740     24.7    275     14.7       1465   \n",
            "No internet service         1321     18.8     98     14.0       1223   \n",
            "Unknown                     1009     14.3    261      5.2        748   \n",
            "\n",
            "                     Not Churn %  \n",
            "No                          33.6  \n",
            "Yes                         28.3  \n",
            "No internet service         23.6  \n",
            "Unknown                     14.5  \n"
          ]
        },
        {
          "output_type": "display_data",
          "data": {
            "text/plain": [
              "<Figure size 720x288 with 1 Axes>"
            ],
            "image/png": "[encoded data removed]"
          },
          "metadata": {
            "needs_background": "light"
          }
        }
      ]
    },
    {
      "cell_type": "markdown",
      "source": [
        "* From the chart above, there are 4 category of customer based on Tech Support services.\n",
        "* From 7043 customers, customers with who take Tech Support are 1749 customers or 24.7%. Cusstomer who don't take Tech Support are 2973 or 42.2%. Customers who don't have internet service are 1321 or 18.8%. Customers with unknown data are 1009 or 14.3%.\n",
        "* For customers who churn, most of them don't take Tech Support service. We can see that from the chart, where there are 1235 or 66.1% customers.\n",
        "* Then for customers who not churn most of them don't take Tech Support service. we can see from the chart, where there are 1738 or 33.6% customers. "
      ],
      "metadata": {
        "id": "CvSURV_i1hmI"
      },
      "id": "CvSURV_i1hmI"
    },
    {
      "cell_type": "code",
      "source": [
        "# Streaming TV\n",
        "df_StreamingTV = pd.DataFrame(df_telco['StreamingTV'].value_counts())\n",
        "df_StreamingTV['Percent'] = [round(i*100/sum(df_StreamingTV.StreamingTV), 1) for i in df_StreamingTV.StreamingTV]\n",
        "\n",
        "df_StreamingTV_churn = pd.DataFrame(df_telco.StreamingTV[(df_telco['Churn'] == 'Yes')].value_counts())\n",
        "df_StreamingTV['Churn'] = df_StreamingTV_churn.StreamingTV\n",
        "df_StreamingTV['Churn %'] = [round(i*100/sum(df_StreamingTV_churn.StreamingTV), 1) for i in df_StreamingTV_churn.StreamingTV]\n",
        "\n",
        "df_StreamingTV_notChurn = pd.DataFrame(df_telco.StreamingTV[(df_telco['Churn'] == 'No')].value_counts())\n",
        "df_StreamingTV['Not Churn'] = df_StreamingTV_notChurn.StreamingTV\n",
        "df_StreamingTV['Not Churn %'] = [round(i*100/sum(df_StreamingTV_notChurn.StreamingTV), 1) for i in df_StreamingTV_notChurn.StreamingTV]\n",
        "\n",
        "print(df_StreamingTV)\n",
        "\n",
        "plt.figure(figsize=(10,4))\n",
        "ax = sns.countplot(x='StreamingTV', hue='Churn', data=df_telco, palette='Blues')\n",
        "plt.xlabel('Streaming TV', fontsize=13)\n",
        "plt.ylabel('Number of Customers', fontsize=13)\n",
        "plt.ylim(0, 2500)\n",
        "for p in ax.patches:\n",
        "    ax.annotate((p.get_height()), (p.get_x()+0.1, p.get_height()+200), fontsize=10)"
      ],
      "metadata": {
        "colab": {
          "base_uri": "https://localhost:8080/",
          "height": 489
        },
        "id": "TTOBUvX5EIng",
        "outputId": "4647789f-06ee-4239-da11-c050d02dce64"
      },
      "id": "TTOBUvX5EIng",
      "execution_count": null,
      "outputs": [
        {
          "output_type": "stream",
          "name": "stdout",
          "text": [
            "                     StreamingTV  Percent  Churn  Churn %  Not Churn  \\\n",
            "No                          2403     34.1    802     42.9       1601   \n",
            "Yes                         2310     32.8    708     37.9       1602   \n",
            "No internet service         1321     18.8     98     14.0       1223   \n",
            "Unknown                     1009     14.3    261      5.2        748   \n",
            "\n",
            "                     Not Churn %  \n",
            "No                          31.0  \n",
            "Yes                         30.9  \n",
            "No internet service         23.6  \n",
            "Unknown                     14.5  \n"
          ]
        },
        {
          "output_type": "display_data",
          "data": {
            "text/plain": [
              "<Figure size 720x288 with 1 Axes>"
            ],
            "image/png": "[encoded data removed]"
          },
          "metadata": {
            "needs_background": "light"
          }
        }
      ]
    },
    {
      "cell_type": "markdown",
      "source": [
        "* From the chart above, there are 4 category of customer based on Streaming TV services.\n",
        "* From 7043 customers, customers with who take Streaming TV are 2310 customers or 32.8%. Cusstomer who don't take Streaming TV are 2403 or 34.1%. Customers who don't have internet service are 1321 or 18.8%. Customers with unknown data are 1009 or 14.3%.\n",
        "* For customers who churn, most of them don't take Streaming TV service. We can see that from the chart, where there are 802 or 42.9% customers.\n",
        "* Then for customers who not churn most of them take Streaming TV service. we can see from the chart, where there are 1602 or 31% customers. "
      ],
      "metadata": {
        "id": "3BtyonjC288Q"
      },
      "id": "3BtyonjC288Q"
    },
    {
      "cell_type": "code",
      "source": [
        "# Streaming Movies\n",
        "df_StreamingMovies = pd.DataFrame(df_telco['StreamingMovies'].value_counts())\n",
        "df_StreamingMovies['Percent'] = [round(i*100/sum(df_StreamingMovies.StreamingMovies), 1) for i in df_StreamingMovies.StreamingMovies]\n",
        "\n",
        "df_StreamingMovies_churn = pd.DataFrame(df_telco.StreamingMovies[(df_telco['Churn'] == 'Yes')].value_counts())\n",
        "df_StreamingMovies['Churn'] = df_StreamingMovies_churn.StreamingMovies\n",
        "df_StreamingMovies['Churn %'] = [round(i*100/sum(df_StreamingMovies_churn.StreamingMovies), 1) for i in df_StreamingMovies_churn.StreamingMovies]\n",
        "\n",
        "df_StreamingMovies_notChurn = pd.DataFrame(df_telco.StreamingMovies[(df_telco['Churn'] == 'No')].value_counts())\n",
        "df_StreamingMovies['Not Churn'] = df_StreamingMovies_notChurn.StreamingMovies\n",
        "df_StreamingMovies['Not Churn %'] = [round(i*100/sum(df_StreamingMovies_notChurn.StreamingMovies), 1) for i in df_StreamingMovies_notChurn.StreamingMovies]\n",
        "\n",
        "print(df_StreamingMovies)\n",
        "\n",
        "plt.figure(figsize=(10,4))\n",
        "ax = sns.countplot(x='StreamingMovies', hue='Churn', data=df_telco, palette='Blues')\n",
        "plt.xlabel('Streaming Movies', fontsize=13)\n",
        "plt.ylabel('Number of Customers', fontsize=13)\n",
        "plt.ylim(0, 2500)\n",
        "for p in ax.patches:\n",
        "    ax.annotate((p.get_height()), (p.get_x()+0.1, p.get_height()+200), fontsize=10)"
      ],
      "metadata": {
        "colab": {
          "base_uri": "https://localhost:8080/",
          "height": 489
        },
        "id": "2wmRZdGkEtMR",
        "outputId": "6febf391-b757-4dd4-c3a1-f3b1757912d4"
      },
      "id": "2wmRZdGkEtMR",
      "execution_count": null,
      "outputs": [
        {
          "output_type": "stream",
          "name": "stdout",
          "text": [
            "                     StreamingMovies  Percent  Churn  Churn %  Not Churn  \\\n",
            "No                              2394     34.0    813     43.5       1581   \n",
            "Yes                             2319     32.9    697     37.3       1622   \n",
            "No internet service             1321     18.8     98     14.0       1223   \n",
            "Unknown                         1009     14.3    261      5.2        748   \n",
            "\n",
            "                     Not Churn %  \n",
            "No                          31.3  \n",
            "Yes                         30.6  \n",
            "No internet service         23.6  \n",
            "Unknown                     14.5  \n"
          ]
        },
        {
          "output_type": "display_data",
          "data": {
            "text/plain": [
              "<Figure size 720x288 with 1 Axes>"
            ],
            "image/png": "[encoded data removed]"
          },
          "metadata": {
            "needs_background": "light"
          }
        }
      ]
    },
    {
      "cell_type": "markdown",
      "source": [
        "* From the chart above, it can be seen that there are more non-churn customers who don’t stream movies than churn customers.\n",
        "* From 7043 customers, 34% don’t stream movies, 32.9% streaming movies, 18.8% don’t have internet service, and 14.3% who are not known streaming movies or not.\n",
        "* For churn customers by StreamingMovies, 43.5% don’t stream movies, 37.3% streaming movies, 14% don’t have internet service, and 5.2% who are not known streaming movies or not.\n",
        "* For non-churn customers by StreamingMovies, 31.3% don’t stream movies, 30.6% streaming movies, 23.6% don’t have internet service, and 14.5% who are not known streaming movies or not.\n"
      ],
      "metadata": {
        "id": "26m5kXXmUxkF"
      },
      "id": "26m5kXXmUxkF"
    },
    {
      "cell_type": "code",
      "source": [
        "# Contract\n",
        "df_Contract = pd.DataFrame(df_telco['Contract'].value_counts())\n",
        "df_Contract['Percent'] = [round(i*100/sum(df_Contract.Contract), 1) for i in df_Contract.Contract]\n",
        "\n",
        "df_Contract_churn = pd.DataFrame(df_telco.Contract[(df_telco['Churn'] == 'Yes')].value_counts())\n",
        "df_Contract['Churn'] = df_Contract_churn.Contract\n",
        "df_Contract['Churn %'] = [round(i*100/sum(df_Contract_churn.Contract), 1) for i in df_Contract_churn.Contract]\n",
        "\n",
        "df_Contract_notChurn = pd.DataFrame(df_telco.Contract[(df_telco['Churn'] == 'No')].value_counts())\n",
        "df_Contract['Not Churn'] = df_Contract_notChurn.Contract\n",
        "df_Contract['Not Churn %'] = [round(i*100/sum(df_Contract_notChurn.Contract), 1) for i in df_Contract_notChurn.Contract]\n",
        "\n",
        "print(df_Contract)\n",
        "\n",
        "plt.figure(figsize=(10,4))\n",
        "ax = sns.countplot(x='Contract', hue='Churn', data=df_telco, palette='Blues')\n",
        "plt.xlabel('Contract', fontsize=13)\n",
        "plt.ylabel('Number of Customers', fontsize=13)\n",
        "plt.ylim(0, 3000)\n",
        "for p in ax.patches:\n",
        "    ax.annotate((p.get_height()), (p.get_x()+0.1, p.get_height()+200), fontsize=10)"
      ],
      "metadata": {
        "colab": {
          "base_uri": "https://localhost:8080/",
          "height": 360
        },
        "id": "jep_Ptb_FHP_",
        "outputId": "bdbf8f56-4afc-4544-90a5-64d25d133614"
      },
      "id": "jep_Ptb_FHP_",
      "execution_count": null,
      "outputs": [
        {
          "output_type": "stream",
          "name": "stdout",
          "text": [
            "                Contract  Percent  Churn  Churn %  Not Churn  Not Churn %\n",
            "Month-to-month      3875     55.0   1655     88.6       2220         42.9\n",
            "Two year            1695     24.1     48      8.9       1647         31.8\n",
            "One year            1473     20.9    166      2.6       1307         25.3\n"
          ]
        },
        {
          "output_type": "display_data",
          "data": {
            "text/plain": [
              "<Figure size 720x288 with 1 Axes>"
            ],
            "image/png": "[encoded data removed]"
          },
          "metadata": {
            "needs_background": "light"
          }
        }
      ]
    },
    {
      "cell_type": "markdown",
      "source": [
        "* From the chart above, it can be seen that there are more non-churn customers who have current contract type than churn customers.\n",
        "* From 7043 customers, 55% choose month-to-month type, 20.9% choose one year type, and 24.1% choose two year type.\n",
        "* For churn customers by Contract, 88.6% choose month-to-month type, 2.6% choose one year type, and 8.9% choose two year type.\n",
        "* For non-churn customers by Contract, 42.9% choose month-to-month type, 25.3% choose one year type, and 31.8% choose two year type.\n"
      ],
      "metadata": {
        "id": "6fu7ORKiUrYt"
      },
      "id": "6fu7ORKiUrYt"
    },
    {
      "cell_type": "code",
      "source": [
        "# PaperlessBilling\n",
        "df_PaperlessBilling = pd.DataFrame(df_telco['PaperlessBilling'].value_counts())\n",
        "df_PaperlessBilling['Percent'] = [round(i*100/sum(df_PaperlessBilling.PaperlessBilling), 1) for i in df_PaperlessBilling.PaperlessBilling]\n",
        "\n",
        "df_PaperlessBilling_churn = pd.DataFrame(df_telco.PaperlessBilling[(df_telco['Churn'] == 'Yes')].value_counts())\n",
        "df_PaperlessBilling['Churn'] = df_PaperlessBilling_churn.PaperlessBilling\n",
        "df_PaperlessBilling['Churn %'] = [round(i*100/sum(df_PaperlessBilling_churn.PaperlessBilling), 1) for i in df_PaperlessBilling_churn.PaperlessBilling]\n",
        "\n",
        "df_PaperlessBilling_notChurn = pd.DataFrame(df_telco.PaperlessBilling[(df_telco['Churn'] == 'No')].value_counts())\n",
        "df_PaperlessBilling['Not Churn'] = df_PaperlessBilling_notChurn.PaperlessBilling\n",
        "df_PaperlessBilling['Not Churn %'] = [round(i*100/sum(df_PaperlessBilling_notChurn.PaperlessBilling), 1) for i in df_PaperlessBilling_notChurn.PaperlessBilling]\n",
        "\n",
        "print(df_PaperlessBilling)\n",
        "\n",
        "plt.figure(figsize=(7,4))\n",
        "ax = sns.countplot(x='PaperlessBilling', hue='Churn', data=df_telco, palette='Blues')\n",
        "plt.xlabel('Paperless Billing', fontsize=13)\n",
        "plt.ylabel('Number of Customers', fontsize=13)\n",
        "plt.ylim(0, 3500)\n",
        "for p in ax.patches:\n",
        "    ax.annotate((p.get_height()), (p.get_x()+0.1, p.get_height()+200), fontsize=10)"
      ],
      "metadata": {
        "colab": {
          "base_uri": "https://localhost:8080/",
          "height": 341
        },
        "id": "GIyfatE5F6XU",
        "outputId": "7db7b466-1826-450b-ba23-f7227c2fb54c"
      },
      "id": "GIyfatE5F6XU",
      "execution_count": null,
      "outputs": [
        {
          "output_type": "stream",
          "name": "stdout",
          "text": [
            "     PaperlessBilling  Percent  Churn  Churn %  Not Churn  Not Churn %\n",
            "Yes              4171     59.2   1400     74.9       2771         53.6\n",
            "No               2872     40.8    469     25.1       2403         46.4\n"
          ]
        },
        {
          "output_type": "display_data",
          "data": {
            "text/plain": [
              "<Figure size 504x288 with 1 Axes>"
            ],
            "image/png": "[encoded data removed]"
          },
          "metadata": {
            "needs_background": "light"
          }
        }
      ]
    },
    {
      "cell_type": "markdown",
      "source": [
        "* From the chart above, it can be seen that there are more non-churn customers who have paperless billing than churn customers.\n",
        "* From 7043 customers, 59.2% who have paperless billing and 40.8% who haven’t paperless billing.\n",
        "* For churn customers by PaperlessBilling, 74.9% have paperless billing and 25.1% haven’t paperless billing.\n",
        "* For non-churn customers by PaperlessBilling, 53.6% have paperless billing and 46.4% haven’t paperless billing.\n"
      ],
      "metadata": {
        "id": "gwAWCxiBUl0s"
      },
      "id": "gwAWCxiBUl0s"
    },
    {
      "cell_type": "code",
      "source": [
        "# Payment Method\n",
        "df_PaymentMethod = pd.DataFrame(df_telco['PaymentMethod'].value_counts())\n",
        "df_PaymentMethod['Percent'] = [round(i*100/sum(df_PaymentMethod.PaymentMethod), 1) for i in df_PaymentMethod.PaymentMethod]\n",
        "\n",
        "df_PaymentMethod_churn = pd.DataFrame(df_telco.PaymentMethod[(df_telco['Churn'] == 'Yes')].value_counts())\n",
        "df_PaymentMethod['Churn'] = df_PaymentMethod_churn.PaymentMethod\n",
        "df_PaymentMethod['Churn %'] = [round(i*100/sum(df_PaymentMethod_churn.PaymentMethod), 1) for i in df_PaymentMethod_churn.PaymentMethod]\n",
        "\n",
        "df_PaymentMethod_notChurn = pd.DataFrame(df_telco.PaymentMethod[(df_telco['Churn'] == 'No')].value_counts())\n",
        "df_PaymentMethod['Not Churn'] = df_PaymentMethod_notChurn.PaymentMethod\n",
        "df_PaymentMethod['Not Churn %'] = [round(i*100/sum(df_PaymentMethod_notChurn.PaymentMethod), 1) for i in df_PaymentMethod_notChurn.PaymentMethod]\n",
        "\n",
        "print(df_PaymentMethod)\n",
        "\n",
        "plt.figure(figsize=(10,4))\n",
        "ax = sns.countplot(x='PaymentMethod', hue='Churn', data=df_telco, palette='Blues')\n",
        "plt.xlabel('Payment Method', fontsize=13)\n",
        "plt.ylabel('Number of Customers', fontsize=13)\n",
        "plt.ylim(0, 2000)\n",
        "for p in ax.patches:\n",
        "    ax.annotate((p.get_height()), (p.get_x()+0.1, p.get_height()+200), fontsize=10)"
      ],
      "metadata": {
        "colab": {
          "base_uri": "https://localhost:8080/",
          "height": 489
        },
        "id": "hwnJzmqaGcZS",
        "outputId": "dabc4fb3-8dc2-4891-be1e-8088c320a4df"
      },
      "id": "hwnJzmqaGcZS",
      "execution_count": null,
      "outputs": [
        {
          "output_type": "stream",
          "name": "stdout",
          "text": [
            "                           PaymentMethod  Percent  Churn  Churn %  Not Churn  \\\n",
            "Electronic check                    2365     33.6   1071     57.3       1294   \n",
            "Mailed check                        1612     22.9    308     16.5       1304   \n",
            "Bank transfer (automatic)           1544     21.9    258     13.8       1286   \n",
            "Credit card (automatic)             1522     21.6    232     12.4       1290   \n",
            "\n",
            "                           Not Churn %  \n",
            "Electronic check                  25.2  \n",
            "Mailed check                      25.0  \n",
            "Bank transfer (automatic)         24.9  \n",
            "Credit card (automatic)           24.9  \n"
          ]
        },
        {
          "output_type": "display_data",
          "data": {
            "text/plain": [
              "<Figure size 720x288 with 1 Axes>"
            ],
            "image/png": "[encoded data removed]"
          },
          "metadata": {
            "needs_background": "light"
          }
        }
      ]
    },
    {
      "cell_type": "markdown",
      "source": [
        "* From the chart above, it can be seen that there are more non-churn customers who use payment methods than churn customers.\n",
        "* From 7043 customers, 33.6% use electronic check, 22.9% use mailed check, 21.9% use bank transfer (automatic), and 21.6% use credit card (automatic).\n",
        "* For churn customers by PaymentMethod, 57.3% use electronic check, 16.5% use mailed check, 13.8% use bank transfer (automatic), and 12.4% use credit card (automatic).\n",
        "* For not churn customers by PaymentMethod, 25.2% use electronic check, 25% use mailed check, 24.9% use bank transfer (automatic), and 24.9% use credit card (automatic).\n"
      ],
      "metadata": {
        "id": "y1SArJtsUe5c"
      },
      "id": "y1SArJtsUe5c"
    },
    {
      "cell_type": "markdown",
      "source": [
        "#### Know how many customers that churn and not churn based on spending their money every month and total spending."
      ],
      "metadata": {
        "id": "0xQYp6nOT1Lc"
      },
      "id": "0xQYp6nOT1Lc"
    },
    {
      "cell_type": "code",
      "source": [
        "# Monthly Charges\n",
        "ax_monthly = sns.kdeplot(df_telco.MonthlyCharges[(df_telco['Churn'] == 'No')], shade='True')\n",
        "ax_monthly = sns.kdeplot(df_telco.MonthlyCharges[(df_telco['Churn'] == 'Yes')], shade='True', ax=ax_monthly)\n",
        "\n",
        "ax_monthly.legend(['No', 'Yes'], loc='upper right')\n",
        "ax_monthly.set_xlabel('Monthly Charges');"
      ],
      "metadata": {
        "colab": {
          "base_uri": "https://localhost:8080/",
          "height": 279
        },
        "id": "xVs1JrBAG9-A",
        "outputId": "fb4b4826-9039-4d7d-f441-06a680b76988"
      },
      "id": "xVs1JrBAG9-A",
      "execution_count": null,
      "outputs": [
        {
          "output_type": "display_data",
          "data": {
            "text/plain": [
              "<Figure size 432x288 with 1 Axes>"
            ],
            "image/png": "[encoded data removed]"
          },
          "metadata": {
            "needs_background": "light"
          }
        }
      ]
    },
    {
      "cell_type": "markdown",
      "source": [
        "* From the chart above, can be seen that the non-churn customer has the highest density, the density is above 0.0175 in the low range of monthly charges amount.\n",
        "* The churn customer highest density is above 0.0175  in the high range of monthly charges amount.\n",
        "* The non-churn customer monthly charges density peak the highest at the lower amount and medium density at the mid to high amount.\n",
        "* The churn customer monthly charges amount density peak at middle to high amount but low density at low amount.\n"
      ],
      "metadata": {
        "id": "LD5HA_YrUY6w"
      },
      "id": "LD5HA_YrUY6w"
    },
    {
      "cell_type": "code",
      "source": [
        "# Total Charges\n",
        "ax_total = sns.kdeplot(df_telco.TotalCharges[(df_telco['Churn'] == 'No')], shade='True')\n",
        "ax_total = sns.kdeplot(df_telco.TotalCharges[(df_telco['Churn'] == 'Yes')], shade='True', ax=ax_total)\n",
        "\n",
        "ax_total.legend(['No', 'Yes'], loc='upper right')\n",
        "ax_total.set_xlabel('Total Charges');"
      ],
      "metadata": {
        "colab": {
          "base_uri": "https://localhost:8080/",
          "height": 279
        },
        "id": "22QIAkemJ8tn",
        "outputId": "35071b25-023b-4a53-9d97-e1ad153b13c1"
      },
      "id": "22QIAkemJ8tn",
      "execution_count": null,
      "outputs": [
        {
          "output_type": "display_data",
          "data": {
            "text/plain": [
              "<Figure size 432x288 with 1 Axes>"
            ],
            "image/png": "[encoded data removed]"
          },
          "metadata": {
            "needs_background": "light"
          }
        }
      ]
    },
    {
      "cell_type": "markdown",
      "source": [
        "* From the chart above, can be seen that the churn customer has the highest density, the density is  above 0.0004 in the low range of total charges amount.\n",
        "* The non-churn customer highest density is below 0.0003 in the low range of total charges amount.\n",
        "* The non-churn customer total charges amount density peak is lower than the churn customer.\n",
        "* The churn customer total harges amount density peak is highest than non-churn customer.\n"
      ],
      "metadata": {
        "id": "UB7-pUNJULBM"
      },
      "id": "UB7-pUNJULBM"
    },
    {
      "cell_type": "markdown",
      "source": [
        "#### Know how long customers that churn and not churn based on ong their tenure."
      ],
      "metadata": {
        "id": "prPKal7KT678"
      },
      "id": "prPKal7KT678"
    },
    {
      "cell_type": "code",
      "source": [
        "# Tenure\n",
        "ax_tenure = sns.kdeplot(df_telco.tenure[(df_telco['Churn'] == 'No')], shade='True')\n",
        "ax_tenure = sns.kdeplot(df_telco.tenure[(df_telco['Churn'] == 'Yes')], shade='True', ax=ax_tenure)\n",
        "\n",
        "ax_tenure.legend(['No', 'Yes'], loc='upper right')\n",
        "ax_tenure.set_xlabel('Tenure');"
      ],
      "metadata": {
        "colab": {
          "base_uri": "https://localhost:8080/",
          "height": 279
        },
        "id": "wFo5UUHNTdR5",
        "outputId": "5d78d498-b835-4d19-c321-d1311fcbbe40"
      },
      "id": "wFo5UUHNTdR5",
      "execution_count": null,
      "outputs": [
        {
          "output_type": "display_data",
          "data": {
            "text/plain": [
              "<Figure size 432x288 with 1 Axes>"
            ],
            "image/png": "[encoded data removed]"
          },
          "metadata": {
            "needs_background": "light"
          }
        }
      ]
    },
    {
      "cell_type": "markdown",
      "source": [
        "* Customers who churn from the long of tenure from 0 - 20 months with the highest density above 0.040.\n",
        "* Customers who not churn from the long of tenure from 60 - 80 months with the highest density above 0.015"
      ],
      "metadata": {
        "id": "EpHNRi3EUBr6"
      },
      "id": "EpHNRi3EUBr6"
    },
    {
      "cell_type": "markdown",
      "source": [
        "# Feature Engineering"
      ],
      "metadata": {
        "id": "p_lAN0BYM_0V"
      },
      "id": "p_lAN0BYM_0V"
    },
    {
      "cell_type": "code",
      "source": [
        "data = df_telco.select_dtypes(include=['object']).columns.to_list()\n",
        "for i in data:\n",
        "    if i == 'Contract':\n",
        "        df_telco[i] = df_telco[i].map({'Month-to-month':0,'One year':1,'Two year':2})\n",
        "    elif i == 'Churn':\n",
        "        df_telco[i] = df_telco[i].map({'Yes':1,'No':0})\n",
        "    else:\n",
        "        column_enc = pd.get_dummies(df_telco[i], prefix=i, drop_first = False)\n",
        "        df_telco = df_telco.drop([i], axis = 1)\n",
        "        df_telco = pd.concat([df_telco, column_enc], axis = 1)"
      ],
      "metadata": {
        "id": "4QFDiwLFM_Wl"
      },
      "id": "4QFDiwLFM_Wl",
      "execution_count": null,
      "outputs": []
    },
    {
      "cell_type": "code",
      "source": [
        "df_telco.head()"
      ],
      "metadata": {
        "colab": {
          "base_uri": "https://localhost:8080/",
          "height": 334
        },
        "id": "KHEyqsYVNSAx",
        "outputId": "0d415a44-c69e-47eb-e618-f08181d3d699"
      },
      "id": "KHEyqsYVNSAx",
      "execution_count": null,
      "outputs": [
        {
          "output_type": "execute_result",
          "data": {
            "text/plain": [
              "   tenure  Contract  MonthlyCharges  TotalCharges  Churn  gender_Female  \\\n",
              "0       1         0           29.85         29.85      0              0   \n",
              "1      34         1           56.95       1889.50      0              0   \n",
              "2       2         0           53.85        108.15      1              0   \n",
              "3      45         1           42.30       1840.75      0              0   \n",
              "4       2         0           70.70        151.65      1              0   \n",
              "\n",
              "   gender_Male  gender_Unknown  SeniorCitizen_0.0  SeniorCitizen_1.0  ...  \\\n",
              "0            0               1                  0                  0  ...   \n",
              "1            0               1                  0                  0  ...   \n",
              "2            0               1                  0                  0  ...   \n",
              "3            0               1                  0                  0  ...   \n",
              "4            0               1                  0                  0  ...   \n",
              "\n",
              "   StreamingMovies_No  StreamingMovies_No internet service  \\\n",
              "0                   0                                    0   \n",
              "1                   0                                    0   \n",
              "2                   0                                    0   \n",
              "3                   0                                    0   \n",
              "4                   0                                    0   \n",
              "\n",
              "   StreamingMovies_Unknown  StreamingMovies_Yes  PaperlessBilling_No  \\\n",
              "0                        1                    0                    0   \n",
              "1                        1                    0                    1   \n",
              "2                        1                    0                    0   \n",
              "3                        1                    0                    1   \n",
              "4                        1                    0                    0   \n",
              "\n",
              "   PaperlessBilling_Yes  PaymentMethod_Bank transfer (automatic)  \\\n",
              "0                     1                                        0   \n",
              "1                     0                                        0   \n",
              "2                     1                                        0   \n",
              "3                     0                                        1   \n",
              "4                     1                                        0   \n",
              "\n",
              "   PaymentMethod_Credit card (automatic)  PaymentMethod_Electronic check  \\\n",
              "0                                      0                               1   \n",
              "1                                      0                               0   \n",
              "2                                      0                               0   \n",
              "3                                      0                               0   \n",
              "4                                      0                               1   \n",
              "\n",
              "   PaymentMethod_Mailed check  \n",
              "0                           0  \n",
              "1                           1  \n",
              "2                           1  \n",
              "3                           0  \n",
              "4                           0  \n",
              "\n",
              "[5 rows x 57 columns]"
            ],
            "text/html": [
              "\n",
              "  <div id=\"df-7c4217f5-acac-49c4-8030-7ced9b4fcb25\">\n",
              "    <div class=\"colab-df-container\">\n",
              "      <div>\n",
              "<style scoped>\n",
              "    .dataframe tbody tr th:only-of-type {\n",
              "        vertical-align: middle;\n",
              "    }\n",
              "\n",
              "    .dataframe tbody tr th {\n",
              "        vertical-align: top;\n",
              "    }\n",
              "\n",
              "    .dataframe thead th {\n",
              "        text-align: right;\n",
              "    }\n",
              "</style>\n",
              "<table border=\"1\" class=\"dataframe\">\n",
              "  <thead>\n",
              "    <tr style=\"text-align: right;\">\n",
              "      <th></th>\n",
              "      <th>tenure</th>\n",
              "      <th>Contract</th>\n",
              "      <th>MonthlyCharges</th>\n",
              "      <th>TotalCharges</th>\n",
              "      <th>Churn</th>\n",
              "      <th>gender_Female</th>\n",
              "      <th>gender_Male</th>\n",
              "      <th>gender_Unknown</th>\n",
              "      <th>SeniorCitizen_0.0</th>\n",
              "      <th>SeniorCitizen_1.0</th>\n",
              "      <th>...</th>\n",
              "      <th>StreamingMovies_No</th>\n",
              "      <th>StreamingMovies_No internet service</th>\n",
              "      <th>StreamingMovies_Unknown</th>\n",
              "      <th>StreamingMovies_Yes</th>\n",
              "      <th>PaperlessBilling_No</th>\n",
              "      <th>PaperlessBilling_Yes</th>\n",
              "      <th>PaymentMethod_Bank transfer (automatic)</th>\n",
              "      <th>PaymentMethod_Credit card (automatic)</th>\n",
              "      <th>PaymentMethod_Electronic check</th>\n",
              "      <th>PaymentMethod_Mailed check</th>\n",
              "    </tr>\n",
              "  </thead>\n",
              "  <tbody>\n",
              "    <tr>\n",
              "      <th>0</th>\n",
              "      <td>1</td>\n",
              "      <td>0</td>\n",
              "      <td>29.85</td>\n",
              "      <td>29.85</td>\n",
              "      <td>0</td>\n",
              "      <td>0</td>\n",
              "      <td>0</td>\n",
              "      <td>1</td>\n",
              "      <td>0</td>\n",
              "      <td>0</td>\n",
              "      <td>...</td>\n",
              "      <td>0</td>\n",
              "      <td>0</td>\n",
              "      <td>1</td>\n",
              "      <td>0</td>\n",
              "      <td>0</td>\n",
              "      <td>1</td>\n",
              "      <td>0</td>\n",
              "      <td>0</td>\n",
              "      <td>1</td>\n",
              "      <td>0</td>\n",
              "    </tr>\n",
              "    <tr>\n",
              "      <th>1</th>\n",
              "      <td>34</td>\n",
              "      <td>1</td>\n",
              "      <td>56.95</td>\n",
              "      <td>1889.50</td>\n",
              "      <td>0</td>\n",
              "      <td>0</td>\n",
              "      <td>0</td>\n",
              "      <td>1</td>\n",
              "      <td>0</td>\n",
              "      <td>0</td>\n",
              "      <td>...</td>\n",
              "      <td>0</td>\n",
              "      <td>0</td>\n",
              "      <td>1</td>\n",
              "      <td>0</td>\n",
              "      <td>1</td>\n",
              "      <td>0</td>\n",
              "      <td>0</td>\n",
              "      <td>0</td>\n",
              "      <td>0</td>\n",
              "      <td>1</td>\n",
              "    </tr>\n",
              "    <tr>\n",
              "      <th>2</th>\n",
              "      <td>2</td>\n",
              "      <td>0</td>\n",
              "      <td>53.85</td>\n",
              "      <td>108.15</td>\n",
              "      <td>1</td>\n",
              "      <td>0</td>\n",
              "      <td>0</td>\n",
              "      <td>1</td>\n",
              "      <td>0</td>\n",
              "      <td>0</td>\n",
              "      <td>...</td>\n",
              "      <td>0</td>\n",
              "      <td>0</td>\n",
              "      <td>1</td>\n",
              "      <td>0</td>\n",
              "      <td>0</td>\n",
              "      <td>1</td>\n",
              "      <td>0</td>\n",
              "      <td>0</td>\n",
              "      <td>0</td>\n",
              "      <td>1</td>\n",
              "    </tr>\n",
              "    <tr>\n",
              "      <th>3</th>\n",
              "      <td>45</td>\n",
              "      <td>1</td>\n",
              "      <td>42.30</td>\n",
              "      <td>1840.75</td>\n",
              "      <td>0</td>\n",
              "      <td>0</td>\n",
              "      <td>0</td>\n",
              "      <td>1</td>\n",
              "      <td>0</td>\n",
              "      <td>0</td>\n",
              "      <td>...</td>\n",
              "      <td>0</td>\n",
              "      <td>0</td>\n",
              "      <td>1</td>\n",
              "      <td>0</td>\n",
              "      <td>1</td>\n",
              "      <td>0</td>\n",
              "      <td>1</td>\n",
              "      <td>0</td>\n",
              "      <td>0</td>\n",
              "      <td>0</td>\n",
              "    </tr>\n",
              "    <tr>\n",
              "      <th>4</th>\n",
              "      <td>2</td>\n",
              "      <td>0</td>\n",
              "      <td>70.70</td>\n",
              "      <td>151.65</td>\n",
              "      <td>1</td>\n",
              "      <td>0</td>\n",
              "      <td>0</td>\n",
              "      <td>1</td>\n",
              "      <td>0</td>\n",
              "      <td>0</td>\n",
              "      <td>...</td>\n",
              "      <td>0</td>\n",
              "      <td>0</td>\n",
              "      <td>1</td>\n",
              "      <td>0</td>\n",
              "      <td>0</td>\n",
              "      <td>1</td>\n",
              "      <td>0</td>\n",
              "      <td>0</td>\n",
              "      <td>1</td>\n",
              "      <td>0</td>\n",
              "    </tr>\n",
              "  </tbody>\n",
              "</table>\n",
              "<p>5 rows × 57 columns</p>\n",
              "</div>\n",
              "      <button class=\"colab-df-convert\" onclick=\"convertToInteractive('df-7c4217f5-acac-49c4-8030-7ced9b4fcb25')\"\n",
              "              title=\"Convert this dataframe to an interactive table.\"\n",
              "              style=\"display:none;\">\n",
              "        \n",
              "  <svg xmlns=\"http://www.w3.org/2000/svg\" height=\"24px\"viewBox=\"0 0 24 24\"\n",
              "       width=\"24px\">\n",
              "    <path d=\"M0 0h24v24H0V0z\" fill=\"none\"/>\n",
              "    <path d=\"M18.56 5.44l.94 2.06.94-2.06 2.06-.94-2.06-.94-.94-2.06-.94 2.06-2.06.94zm-11 1L8.5 8.5l.94-2.06 2.06-.94-2.06-.94L8.5 2.5l-.94 2.06-2.06.94zm10 10l.94 2.06.94-2.06 2.06-.94-2.06-.94-.94-2.06-.94 2.06-2.06.94z\"/><path d=\"M17.41 7.96l-1.37-1.37c-.4-.4-.92-.59-1.43-.59-.52 0-1.04.2-1.43.59L10.3 9.45l-7.72 7.72c-.78.78-.78 2.05 0 2.83L4 21.41c.39.39.9.59 1.41.59.51 0 1.02-.2 1.41-.59l7.78-7.78 2.81-2.81c.8-.78.8-2.07 0-2.86zM5.41 20L4 18.59l7.72-7.72 1.47 1.35L5.41 20z\"/>\n",
              "  </svg>\n",
              "      </button>\n",
              "      \n",
              "  <style>\n",
              "    .colab-df-container {\n",
              "      display:flex;\n",
              "      flex-wrap:wrap;\n",
              "      gap: 12px;\n",
              "    }\n",
              "\n",
              "    .colab-df-convert {\n",
              "      background-color: #E8F0FE;\n",
              "      border: none;\n",
              "      border-radius: 50%;\n",
              "      cursor: pointer;\n",
              "      display: none;\n",
              "      fill: #1967D2;\n",
              "      height: 32px;\n",
              "      padding: 0 0 0 0;\n",
              "      width: 32px;\n",
              "    }\n",
              "\n",
              "    .colab-df-convert:hover {\n",
              "      background-color: #E2EBFA;\n",
              "      box-shadow: 0px 1px 2px rgba(60, 64, 67, 0.3), 0px 1px 3px 1px rgba(60, 64, 67, 0.15);\n",
              "      fill: #174EA6;\n",
              "    }\n",
              "\n",
              "    [theme=dark] .colab-df-convert {\n",
              "      background-color: #3B4455;\n",
              "      fill: #D2E3FC;\n",
              "    }\n",
              "\n",
              "    [theme=dark] .colab-df-convert:hover {\n",
              "      background-color: #434B5C;\n",
              "      box-shadow: 0px 1px 3px 1px rgba(0, 0, 0, 0.15);\n",
              "      filter: drop-shadow(0px 1px 2px rgba(0, 0, 0, 0.3));\n",
              "      fill: #FFFFFF;\n",
              "    }\n",
              "  </style>\n",
              "\n",
              "      <script>\n",
              "        const buttonEl =\n",
              "          document.querySelector('#df-7c4217f5-acac-49c4-8030-7ced9b4fcb25 button.colab-df-convert');\n",
              "        buttonEl.style.display =\n",
              "          google.colab.kernel.accessAllowed ? 'block' : 'none';\n",
              "\n",
              "        async function convertToInteractive(key) {\n",
              "          const element = document.querySelector('#df-7c4217f5-acac-49c4-8030-7ced9b4fcb25');\n",
              "          const dataTable =\n",
              "            await google.colab.kernel.invokeFunction('convertToInteractive',\n",
              "                                                     [key], {});\n",
              "          if (!dataTable) return;\n",
              "\n",
              "          const docLinkHtml = 'Like what you see? Visit the ' +\n",
              "            '<a target=\"_blank\" href=https://colab.research.google.com/notebooks/data_table.ipynb>data table notebook</a>'\n",
              "            + ' to learn more about interactive tables.';\n",
              "          element.innerHTML = '';\n",
              "          dataTable['output_type'] = 'display_data';\n",
              "          await google.colab.output.renderOutput(dataTable, element);\n",
              "          const docLink = document.createElement('div');\n",
              "          docLink.innerHTML = docLinkHtml;\n",
              "          element.appendChild(docLink);\n",
              "        }\n",
              "      </script>\n",
              "    </div>\n",
              "  </div>\n",
              "  "
            ]
          },
          "metadata": {},
          "execution_count": 37
        }
      ]
    },
    {
      "cell_type": "code",
      "source": [
        "scaler = MinMaxScaler()\n",
        "df_telco[['tenure']] = scaler.fit_transform(df_telco[['tenure']])\n",
        "df_telco[['MonthlyCharges']] = scaler.fit_transform(df_telco[['MonthlyCharges']])\n",
        "df_telco[['TotalCharges']] = scaler.fit_transform(df_telco[['TotalCharges']])"
      ],
      "metadata": {
        "id": "ZRHQeoSlNP41"
      },
      "id": "ZRHQeoSlNP41",
      "execution_count": null,
      "outputs": []
    },
    {
      "cell_type": "code",
      "source": [
        "df_telco.head()"
      ],
      "metadata": {
        "colab": {
          "base_uri": "https://localhost:8080/",
          "height": 334
        },
        "id": "vZu8zgrkNWbY",
        "outputId": "f6177b85-1998-431f-cd6d-94f2d8cd1d1f"
      },
      "id": "vZu8zgrkNWbY",
      "execution_count": null,
      "outputs": [
        {
          "output_type": "execute_result",
          "data": {
            "text/plain": [
              "     tenure  Contract  MonthlyCharges  TotalCharges  Churn  gender_Female  \\\n",
              "0  0.013889         0        0.115423      0.001275      0              0   \n",
              "1  0.472222         1        0.385075      0.215867      0              0   \n",
              "2  0.027778         0        0.354229      0.010310      1              0   \n",
              "3  0.625000         1        0.239303      0.210241      0              0   \n",
              "4  0.027778         0        0.521891      0.015330      1              0   \n",
              "\n",
              "   gender_Male  gender_Unknown  SeniorCitizen_0.0  SeniorCitizen_1.0  ...  \\\n",
              "0            0               1                  0                  0  ...   \n",
              "1            0               1                  0                  0  ...   \n",
              "2            0               1                  0                  0  ...   \n",
              "3            0               1                  0                  0  ...   \n",
              "4            0               1                  0                  0  ...   \n",
              "\n",
              "   StreamingMovies_No  StreamingMovies_No internet service  \\\n",
              "0                   0                                    0   \n",
              "1                   0                                    0   \n",
              "2                   0                                    0   \n",
              "3                   0                                    0   \n",
              "4                   0                                    0   \n",
              "\n",
              "   StreamingMovies_Unknown  StreamingMovies_Yes  PaperlessBilling_No  \\\n",
              "0                        1                    0                    0   \n",
              "1                        1                    0                    1   \n",
              "2                        1                    0                    0   \n",
              "3                        1                    0                    1   \n",
              "4                        1                    0                    0   \n",
              "\n",
              "   PaperlessBilling_Yes  PaymentMethod_Bank transfer (automatic)  \\\n",
              "0                     1                                        0   \n",
              "1                     0                                        0   \n",
              "2                     1                                        0   \n",
              "3                     0                                        1   \n",
              "4                     1                                        0   \n",
              "\n",
              "   PaymentMethod_Credit card (automatic)  PaymentMethod_Electronic check  \\\n",
              "0                                      0                               1   \n",
              "1                                      0                               0   \n",
              "2                                      0                               0   \n",
              "3                                      0                               0   \n",
              "4                                      0                               1   \n",
              "\n",
              "   PaymentMethod_Mailed check  \n",
              "0                           0  \n",
              "1                           1  \n",
              "2                           1  \n",
              "3                           0  \n",
              "4                           0  \n",
              "\n",
              "[5 rows x 57 columns]"
            ],
            "text/html": [
              "\n",
              "  <div id=\"df-2c7744cf-ef72-4ddd-88ec-3e0e6bb109b3\">\n",
              "    <div class=\"colab-df-container\">\n",
              "      <div>\n",
              "<style scoped>\n",
              "    .dataframe tbody tr th:only-of-type {\n",
              "        vertical-align: middle;\n",
              "    }\n",
              "\n",
              "    .dataframe tbody tr th {\n",
              "        vertical-align: top;\n",
              "    }\n",
              "\n",
              "    .dataframe thead th {\n",
              "        text-align: right;\n",
              "    }\n",
              "</style>\n",
              "<table border=\"1\" class=\"dataframe\">\n",
              "  <thead>\n",
              "    <tr style=\"text-align: right;\">\n",
              "      <th></th>\n",
              "      <th>tenure</th>\n",
              "      <th>Contract</th>\n",
              "      <th>MonthlyCharges</th>\n",
              "      <th>TotalCharges</th>\n",
              "      <th>Churn</th>\n",
              "      <th>gender_Female</th>\n",
              "      <th>gender_Male</th>\n",
              "      <th>gender_Unknown</th>\n",
              "      <th>SeniorCitizen_0.0</th>\n",
              "      <th>SeniorCitizen_1.0</th>\n",
              "      <th>...</th>\n",
              "      <th>StreamingMovies_No</th>\n",
              "      <th>StreamingMovies_No internet service</th>\n",
              "      <th>StreamingMovies_Unknown</th>\n",
              "      <th>StreamingMovies_Yes</th>\n",
              "      <th>PaperlessBilling_No</th>\n",
              "      <th>PaperlessBilling_Yes</th>\n",
              "      <th>PaymentMethod_Bank transfer (automatic)</th>\n",
              "      <th>PaymentMethod_Credit card (automatic)</th>\n",
              "      <th>PaymentMethod_Electronic check</th>\n",
              "      <th>PaymentMethod_Mailed check</th>\n",
              "    </tr>\n",
              "  </thead>\n",
              "  <tbody>\n",
              "    <tr>\n",
              "      <th>0</th>\n",
              "      <td>0.013889</td>\n",
              "      <td>0</td>\n",
              "      <td>0.115423</td>\n",
              "      <td>0.001275</td>\n",
              "      <td>0</td>\n",
              "      <td>0</td>\n",
              "      <td>0</td>\n",
              "      <td>1</td>\n",
              "      <td>0</td>\n",
              "      <td>0</td>\n",
              "      <td>...</td>\n",
              "      <td>0</td>\n",
              "      <td>0</td>\n",
              "      <td>1</td>\n",
              "      <td>0</td>\n",
              "      <td>0</td>\n",
              "      <td>1</td>\n",
              "      <td>0</td>\n",
              "      <td>0</td>\n",
              "      <td>1</td>\n",
              "      <td>0</td>\n",
              "    </tr>\n",
              "    <tr>\n",
              "      <th>1</th>\n",
              "      <td>0.472222</td>\n",
              "      <td>1</td>\n",
              "      <td>0.385075</td>\n",
              "      <td>0.215867</td>\n",
              "      <td>0</td>\n",
              "      <td>0</td>\n",
              "      <td>0</td>\n",
              "      <td>1</td>\n",
              "      <td>0</td>\n",
              "      <td>0</td>\n",
              "      <td>...</td>\n",
              "      <td>0</td>\n",
              "      <td>0</td>\n",
              "      <td>1</td>\n",
              "      <td>0</td>\n",
              "      <td>1</td>\n",
              "      <td>0</td>\n",
              "      <td>0</td>\n",
              "      <td>0</td>\n",
              "      <td>0</td>\n",
              "      <td>1</td>\n",
              "    </tr>\n",
              "    <tr>\n",
              "      <th>2</th>\n",
              "      <td>0.027778</td>\n",
              "      <td>0</td>\n",
              "      <td>0.354229</td>\n",
              "      <td>0.010310</td>\n",
              "      <td>1</td>\n",
              "      <td>0</td>\n",
              "      <td>0</td>\n",
              "      <td>1</td>\n",
              "      <td>0</td>\n",
              "      <td>0</td>\n",
              "      <td>...</td>\n",
              "      <td>0</td>\n",
              "      <td>0</td>\n",
              "      <td>1</td>\n",
              "      <td>0</td>\n",
              "      <td>0</td>\n",
              "      <td>1</td>\n",
              "      <td>0</td>\n",
              "      <td>0</td>\n",
              "      <td>0</td>\n",
              "      <td>1</td>\n",
              "    </tr>\n",
              "    <tr>\n",
              "      <th>3</th>\n",
              "      <td>0.625000</td>\n",
              "      <td>1</td>\n",
              "      <td>0.239303</td>\n",
              "      <td>0.210241</td>\n",
              "      <td>0</td>\n",
              "      <td>0</td>\n",
              "      <td>0</td>\n",
              "      <td>1</td>\n",
              "      <td>0</td>\n",
              "      <td>0</td>\n",
              "      <td>...</td>\n",
              "      <td>0</td>\n",
              "      <td>0</td>\n",
              "      <td>1</td>\n",
              "      <td>0</td>\n",
              "      <td>1</td>\n",
              "      <td>0</td>\n",
              "      <td>1</td>\n",
              "      <td>0</td>\n",
              "      <td>0</td>\n",
              "      <td>0</td>\n",
              "    </tr>\n",
              "    <tr>\n",
              "      <th>4</th>\n",
              "      <td>0.027778</td>\n",
              "      <td>0</td>\n",
              "      <td>0.521891</td>\n",
              "      <td>0.015330</td>\n",
              "      <td>1</td>\n",
              "      <td>0</td>\n",
              "      <td>0</td>\n",
              "      <td>1</td>\n",
              "      <td>0</td>\n",
              "      <td>0</td>\n",
              "      <td>...</td>\n",
              "      <td>0</td>\n",
              "      <td>0</td>\n",
              "      <td>1</td>\n",
              "      <td>0</td>\n",
              "      <td>0</td>\n",
              "      <td>1</td>\n",
              "      <td>0</td>\n",
              "      <td>0</td>\n",
              "      <td>1</td>\n",
              "      <td>0</td>\n",
              "    </tr>\n",
              "  </tbody>\n",
              "</table>\n",
              "<p>5 rows × 57 columns</p>\n",
              "</div>\n",
              "      <button class=\"colab-df-convert\" onclick=\"convertToInteractive('df-2c7744cf-ef72-4ddd-88ec-3e0e6bb109b3')\"\n",
              "              title=\"Convert this dataframe to an interactive table.\"\n",
              "              style=\"display:none;\">\n",
              "        \n",
              "  <svg xmlns=\"http://www.w3.org/2000/svg\" height=\"24px\"viewBox=\"0 0 24 24\"\n",
              "       width=\"24px\">\n",
              "    <path d=\"M0 0h24v24H0V0z\" fill=\"none\"/>\n",
              "    <path d=\"M18.56 5.44l.94 2.06.94-2.06 2.06-.94-2.06-.94-.94-2.06-.94 2.06-2.06.94zm-11 1L8.5 8.5l.94-2.06 2.06-.94-2.06-.94L8.5 2.5l-.94 2.06-2.06.94zm10 10l.94 2.06.94-2.06 2.06-.94-2.06-.94-.94-2.06-.94 2.06-2.06.94z\"/><path d=\"M17.41 7.96l-1.37-1.37c-.4-.4-.92-.59-1.43-.59-.52 0-1.04.2-1.43.59L10.3 9.45l-7.72 7.72c-.78.78-.78 2.05 0 2.83L4 21.41c.39.39.9.59 1.41.59.51 0 1.02-.2 1.41-.59l7.78-7.78 2.81-2.81c.8-.78.8-2.07 0-2.86zM5.41 20L4 18.59l7.72-7.72 1.47 1.35L5.41 20z\"/>\n",
              "  </svg>\n",
              "      </button>\n",
              "      \n",
              "  <style>\n",
              "    .colab-df-container {\n",
              "      display:flex;\n",
              "      flex-wrap:wrap;\n",
              "      gap: 12px;\n",
              "    }\n",
              "\n",
              "    .colab-df-convert {\n",
              "      background-color: #E8F0FE;\n",
              "      border: none;\n",
              "      border-radius: 50%;\n",
              "      cursor: pointer;\n",
              "      display: none;\n",
              "      fill: #1967D2;\n",
              "      height: 32px;\n",
              "      padding: 0 0 0 0;\n",
              "      width: 32px;\n",
              "    }\n",
              "\n",
              "    .colab-df-convert:hover {\n",
              "      background-color: #E2EBFA;\n",
              "      box-shadow: 0px 1px 2px rgba(60, 64, 67, 0.3), 0px 1px 3px 1px rgba(60, 64, 67, 0.15);\n",
              "      fill: #174EA6;\n",
              "    }\n",
              "\n",
              "    [theme=dark] .colab-df-convert {\n",
              "      background-color: #3B4455;\n",
              "      fill: #D2E3FC;\n",
              "    }\n",
              "\n",
              "    [theme=dark] .colab-df-convert:hover {\n",
              "      background-color: #434B5C;\n",
              "      box-shadow: 0px 1px 3px 1px rgba(0, 0, 0, 0.15);\n",
              "      filter: drop-shadow(0px 1px 2px rgba(0, 0, 0, 0.3));\n",
              "      fill: #FFFFFF;\n",
              "    }\n",
              "  </style>\n",
              "\n",
              "      <script>\n",
              "        const buttonEl =\n",
              "          document.querySelector('#df-2c7744cf-ef72-4ddd-88ec-3e0e6bb109b3 button.colab-df-convert');\n",
              "        buttonEl.style.display =\n",
              "          google.colab.kernel.accessAllowed ? 'block' : 'none';\n",
              "\n",
              "        async function convertToInteractive(key) {\n",
              "          const element = document.querySelector('#df-2c7744cf-ef72-4ddd-88ec-3e0e6bb109b3');\n",
              "          const dataTable =\n",
              "            await google.colab.kernel.invokeFunction('convertToInteractive',\n",
              "                                                     [key], {});\n",
              "          if (!dataTable) return;\n",
              "\n",
              "          const docLinkHtml = 'Like what you see? Visit the ' +\n",
              "            '<a target=\"_blank\" href=https://colab.research.google.com/notebooks/data_table.ipynb>data table notebook</a>'\n",
              "            + ' to learn more about interactive tables.';\n",
              "          element.innerHTML = '';\n",
              "          dataTable['output_type'] = 'display_data';\n",
              "          await google.colab.output.renderOutput(dataTable, element);\n",
              "          const docLink = document.createElement('div');\n",
              "          docLink.innerHTML = docLinkHtml;\n",
              "          element.appendChild(docLink);\n",
              "        }\n",
              "      </script>\n",
              "    </div>\n",
              "  </div>\n",
              "  "
            ]
          },
          "metadata": {},
          "execution_count": 39
        }
      ]
    },
    {
      "cell_type": "markdown",
      "source": [
        "\n",
        "---\n",
        "\n"
      ],
      "metadata": {
        "id": "OtnjGb8ENpVa"
      },
      "id": "OtnjGb8ENpVa"
    },
    {
      "cell_type": "markdown",
      "source": [
        "# Preprocessing Model"
      ],
      "metadata": {
        "id": "U3GHFngfNsA8"
      },
      "id": "U3GHFngfNsA8"
    },
    {
      "cell_type": "markdown",
      "source": [
        "## Feature Selection\n"
      ],
      "metadata": {
        "id": "-raNHbhSNyyN"
      },
      "id": "-raNHbhSNyyN"
    },
    {
      "cell_type": "code",
      "source": [
        "# drop coloumn that contains multicolinear\n",
        "df_telco.drop(['TotalCharges'], axis=1, inplace=True)"
      ],
      "metadata": {
        "id": "p-IfnxsqNa48"
      },
      "id": "p-IfnxsqNa48",
      "execution_count": null,
      "outputs": []
    },
    {
      "cell_type": "markdown",
      "source": [
        "## Feature Important"
      ],
      "metadata": {
        "id": "ULG2SP6GOBOX"
      },
      "id": "ULG2SP6GOBOX"
    },
    {
      "cell_type": "code",
      "source": [
        "X = df_telco.drop(['Churn'], axis=1)\n",
        "y = df_telco['Churn']\n",
        "\n",
        "X.head()"
      ],
      "metadata": {
        "colab": {
          "base_uri": "https://localhost:8080/"
        },
        "id": "RApD7o5AOELp",
        "outputId": "183c4b87-1e12-413b-9383-8f0a64c3f30e"
      },
      "id": "RApD7o5AOELp",
      "execution_count": null,
      "outputs": [
        {
          "output_type": "execute_result",
          "data": {
            "text/plain": [
              "     tenure  Contract  MonthlyCharges  gender_Female  gender_Male  \\\n",
              "0  0.013889         0        0.115423              0            0   \n",
              "1  0.472222         1        0.385075              0            0   \n",
              "2  0.027778         0        0.354229              0            0   \n",
              "3  0.625000         1        0.239303              0            0   \n",
              "4  0.027778         0        0.521891              0            0   \n",
              "\n",
              "   gender_Unknown  SeniorCitizen_0.0  SeniorCitizen_1.0  \\\n",
              "0               1                  0                  0   \n",
              "1               1                  0                  0   \n",
              "2               1                  0                  0   \n",
              "3               1                  0                  0   \n",
              "4               1                  0                  0   \n",
              "\n",
              "   SeniorCitizen_Unknown  Partner_No  ...  StreamingMovies_No  \\\n",
              "0                      1           0  ...                   0   \n",
              "1                      1           0  ...                   0   \n",
              "2                      1           0  ...                   0   \n",
              "3                      1           0  ...                   0   \n",
              "4                      1           0  ...                   0   \n",
              "\n",
              "   StreamingMovies_No internet service  StreamingMovies_Unknown  \\\n",
              "0                                    0                        1   \n",
              "1                                    0                        1   \n",
              "2                                    0                        1   \n",
              "3                                    0                        1   \n",
              "4                                    0                        1   \n",
              "\n",
              "   StreamingMovies_Yes  PaperlessBilling_No  PaperlessBilling_Yes  \\\n",
              "0                    0                    0                     1   \n",
              "1                    0                    1                     0   \n",
              "2                    0                    0                     1   \n",
              "3                    0                    1                     0   \n",
              "4                    0                    0                     1   \n",
              "\n",
              "   PaymentMethod_Bank transfer (automatic)  \\\n",
              "0                                        0   \n",
              "1                                        0   \n",
              "2                                        0   \n",
              "3                                        1   \n",
              "4                                        0   \n",
              "\n",
              "   PaymentMethod_Credit card (automatic)  PaymentMethod_Electronic check  \\\n",
              "0                                      0                               1   \n",
              "1                                      0                               0   \n",
              "2                                      0                               0   \n",
              "3                                      0                               0   \n",
              "4                                      0                               1   \n",
              "\n",
              "   PaymentMethod_Mailed check  \n",
              "0                           0  \n",
              "1                           1  \n",
              "2                           1  \n",
              "3                           0  \n",
              "4                           0  \n",
              "\n",
              "[5 rows x 55 columns]"
            ],
            "text/html": [
              "\n",
              "  <div id=\"df-9f775882-5dac-4b7d-b0b2-704dd3c94b58\">\n",
              "    <div class=\"colab-df-container\">\n",
              "      <div>\n",
              "<style scoped>\n",
              "    .dataframe tbody tr th:only-of-type {\n",
              "        vertical-align: middle;\n",
              "    }\n",
              "\n",
              "    .dataframe tbody tr th {\n",
              "        vertical-align: top;\n",
              "    }\n",
              "\n",
              "    .dataframe thead th {\n",
              "        text-align: right;\n",
              "    }\n",
              "</style>\n",
              "<table border=\"1\" class=\"dataframe\">\n",
              "  <thead>\n",
              "    <tr style=\"text-align: right;\">\n",
              "      <th></th>\n",
              "      <th>tenure</th>\n",
              "      <th>Contract</th>\n",
              "      <th>MonthlyCharges</th>\n",
              "      <th>gender_Female</th>\n",
              "      <th>gender_Male</th>\n",
              "      <th>gender_Unknown</th>\n",
              "      <th>SeniorCitizen_0.0</th>\n",
              "      <th>SeniorCitizen_1.0</th>\n",
              "      <th>SeniorCitizen_Unknown</th>\n",
              "      <th>Partner_No</th>\n",
              "      <th>...</th>\n",
              "      <th>StreamingMovies_No</th>\n",
              "      <th>StreamingMovies_No internet service</th>\n",
              "      <th>StreamingMovies_Unknown</th>\n",
              "      <th>StreamingMovies_Yes</th>\n",
              "      <th>PaperlessBilling_No</th>\n",
              "      <th>PaperlessBilling_Yes</th>\n",
              "      <th>PaymentMethod_Bank transfer (automatic)</th>\n",
              "      <th>PaymentMethod_Credit card (automatic)</th>\n",
              "      <th>PaymentMethod_Electronic check</th>\n",
              "      <th>PaymentMethod_Mailed check</th>\n",
              "    </tr>\n",
              "  </thead>\n",
              "  <tbody>\n",
              "    <tr>\n",
              "      <th>0</th>\n",
              "      <td>0.013889</td>\n",
              "      <td>0</td>\n",
              "      <td>0.115423</td>\n",
              "      <td>0</td>\n",
              "      <td>0</td>\n",
              "      <td>1</td>\n",
              "      <td>0</td>\n",
              "      <td>0</td>\n",
              "      <td>1</td>\n",
              "      <td>0</td>\n",
              "      <td>...</td>\n",
              "      <td>0</td>\n",
              "      <td>0</td>\n",
              "      <td>1</td>\n",
              "      <td>0</td>\n",
              "      <td>0</td>\n",
              "      <td>1</td>\n",
              "      <td>0</td>\n",
              "      <td>0</td>\n",
              "      <td>1</td>\n",
              "      <td>0</td>\n",
              "    </tr>\n",
              "    <tr>\n",
              "      <th>1</th>\n",
              "      <td>0.472222</td>\n",
              "      <td>1</td>\n",
              "      <td>0.385075</td>\n",
              "      <td>0</td>\n",
              "      <td>0</td>\n",
              "      <td>1</td>\n",
              "      <td>0</td>\n",
              "      <td>0</td>\n",
              "      <td>1</td>\n",
              "      <td>0</td>\n",
              "      <td>...</td>\n",
              "      <td>0</td>\n",
              "      <td>0</td>\n",
              "      <td>1</td>\n",
              "      <td>0</td>\n",
              "      <td>1</td>\n",
              "      <td>0</td>\n",
              "      <td>0</td>\n",
              "      <td>0</td>\n",
              "      <td>0</td>\n",
              "      <td>1</td>\n",
              "    </tr>\n",
              "    <tr>\n",
              "      <th>2</th>\n",
              "      <td>0.027778</td>\n",
              "      <td>0</td>\n",
              "      <td>0.354229</td>\n",
              "      <td>0</td>\n",
              "      <td>0</td>\n",
              "      <td>1</td>\n",
              "      <td>0</td>\n",
              "      <td>0</td>\n",
              "      <td>1</td>\n",
              "      <td>0</td>\n",
              "      <td>...</td>\n",
              "      <td>0</td>\n",
              "      <td>0</td>\n",
              "      <td>1</td>\n",
              "      <td>0</td>\n",
              "      <td>0</td>\n",
              "      <td>1</td>\n",
              "      <td>0</td>\n",
              "      <td>0</td>\n",
              "      <td>0</td>\n",
              "      <td>1</td>\n",
              "    </tr>\n",
              "    <tr>\n",
              "      <th>3</th>\n",
              "      <td>0.625000</td>\n",
              "      <td>1</td>\n",
              "      <td>0.239303</td>\n",
              "      <td>0</td>\n",
              "      <td>0</td>\n",
              "      <td>1</td>\n",
              "      <td>0</td>\n",
              "      <td>0</td>\n",
              "      <td>1</td>\n",
              "      <td>0</td>\n",
              "      <td>...</td>\n",
              "      <td>0</td>\n",
              "      <td>0</td>\n",
              "      <td>1</td>\n",
              "      <td>0</td>\n",
              "      <td>1</td>\n",
              "      <td>0</td>\n",
              "      <td>1</td>\n",
              "      <td>0</td>\n",
              "      <td>0</td>\n",
              "      <td>0</td>\n",
              "    </tr>\n",
              "    <tr>\n",
              "      <th>4</th>\n",
              "      <td>0.027778</td>\n",
              "      <td>0</td>\n",
              "      <td>0.521891</td>\n",
              "      <td>0</td>\n",
              "      <td>0</td>\n",
              "      <td>1</td>\n",
              "      <td>0</td>\n",
              "      <td>0</td>\n",
              "      <td>1</td>\n",
              "      <td>0</td>\n",
              "      <td>...</td>\n",
              "      <td>0</td>\n",
              "      <td>0</td>\n",
              "      <td>1</td>\n",
              "      <td>0</td>\n",
              "      <td>0</td>\n",
              "      <td>1</td>\n",
              "      <td>0</td>\n",
              "      <td>0</td>\n",
              "      <td>1</td>\n",
              "      <td>0</td>\n",
              "    </tr>\n",
              "  </tbody>\n",
              "</table>\n",
              "<p>5 rows × 55 columns</p>\n",
              "</div>\n",
              "      <button class=\"colab-df-convert\" onclick=\"convertToInteractive('df-9f775882-5dac-4b7d-b0b2-704dd3c94b58')\"\n",
              "              title=\"Convert this dataframe to an interactive table.\"\n",
              "              style=\"display:none;\">\n",
              "        \n",
              "  <svg xmlns=\"http://www.w3.org/2000/svg\" height=\"24px\"viewBox=\"0 0 24 24\"\n",
              "       width=\"24px\">\n",
              "    <path d=\"M0 0h24v24H0V0z\" fill=\"none\"/>\n",
              "    <path d=\"M18.56 5.44l.94 2.06.94-2.06 2.06-.94-2.06-.94-.94-2.06-.94 2.06-2.06.94zm-11 1L8.5 8.5l.94-2.06 2.06-.94-2.06-.94L8.5 2.5l-.94 2.06-2.06.94zm10 10l.94 2.06.94-2.06 2.06-.94-2.06-.94-.94-2.06-.94 2.06-2.06.94z\"/><path d=\"M17.41 7.96l-1.37-1.37c-.4-.4-.92-.59-1.43-.59-.52 0-1.04.2-1.43.59L10.3 9.45l-7.72 7.72c-.78.78-.78 2.05 0 2.83L4 21.41c.39.39.9.59 1.41.59.51 0 1.02-.2 1.41-.59l7.78-7.78 2.81-2.81c.8-.78.8-2.07 0-2.86zM5.41 20L4 18.59l7.72-7.72 1.47 1.35L5.41 20z\"/>\n",
              "  </svg>\n",
              "      </button>\n",
              "      \n",
              "  <style>\n",
              "    .colab-df-container {\n",
              "      display:flex;\n",
              "      flex-wrap:wrap;\n",
              "      gap: 12px;\n",
              "    }\n",
              "\n",
              "    .colab-df-convert {\n",
              "      background-color: #E8F0FE;\n",
              "      border: none;\n",
              "      border-radius: 50%;\n",
              "      cursor: pointer;\n",
              "      display: none;\n",
              "      fill: #1967D2;\n",
              "      height: 32px;\n",
              "      padding: 0 0 0 0;\n",
              "      width: 32px;\n",
              "    }\n",
              "\n",
              "    .colab-df-convert:hover {\n",
              "      background-color: #E2EBFA;\n",
              "      box-shadow: 0px 1px 2px rgba(60, 64, 67, 0.3), 0px 1px 3px 1px rgba(60, 64, 67, 0.15);\n",
              "      fill: #174EA6;\n",
              "    }\n",
              "\n",
              "    [theme=dark] .colab-df-convert {\n",
              "      background-color: #3B4455;\n",
              "      fill: #D2E3FC;\n",
              "    }\n",
              "\n",
              "    [theme=dark] .colab-df-convert:hover {\n",
              "      background-color: #434B5C;\n",
              "      box-shadow: 0px 1px 3px 1px rgba(0, 0, 0, 0.15);\n",
              "      filter: drop-shadow(0px 1px 2px rgba(0, 0, 0, 0.3));\n",
              "      fill: #FFFFFF;\n",
              "    }\n",
              "  </style>\n",
              "\n",
              "      <script>\n",
              "        const buttonEl =\n",
              "          document.querySelector('#df-9f775882-5dac-4b7d-b0b2-704dd3c94b58 button.colab-df-convert');\n",
              "        buttonEl.style.display =\n",
              "          google.colab.kernel.accessAllowed ? 'block' : 'none';\n",
              "\n",
              "        async function convertToInteractive(key) {\n",
              "          const element = document.querySelector('#df-9f775882-5dac-4b7d-b0b2-704dd3c94b58');\n",
              "          const dataTable =\n",
              "            await google.colab.kernel.invokeFunction('convertToInteractive',\n",
              "                                                     [key], {});\n",
              "          if (!dataTable) return;\n",
              "\n",
              "          const docLinkHtml = 'Like what you see? Visit the ' +\n",
              "            '<a target=\"_blank\" href=https://colab.research.google.com/notebooks/data_table.ipynb>data table notebook</a>'\n",
              "            + ' to learn more about interactive tables.';\n",
              "          element.innerHTML = '';\n",
              "          dataTable['output_type'] = 'display_data';\n",
              "          await google.colab.output.renderOutput(dataTable, element);\n",
              "          const docLink = document.createElement('div');\n",
              "          docLink.innerHTML = docLinkHtml;\n",
              "          element.appendChild(docLink);\n",
              "        }\n",
              "      </script>\n",
              "    </div>\n",
              "  </div>\n",
              "  "
            ]
          },
          "metadata": {},
          "execution_count": 41
        }
      ]
    },
    {
      "cell_type": "code",
      "source": [
        "model = ExtraTreesClassifier()\n",
        "model.fit(X,y)\n",
        "\n",
        "feat_importances = pd.Series(model.feature_importances_, index=X.columns)\n",
        "feat_importances.nlargest(10).plot(kind = 'barh')\n",
        "plt.show()"
      ],
      "metadata": {
        "colab": {
          "base_uri": "https://localhost:8080/"
        },
        "id": "DXmFo2IQOJzS",
        "outputId": "fb8d7777-4bd8-46ee-8b1a-f4da3df20845"
      },
      "id": "DXmFo2IQOJzS",
      "execution_count": null,
      "outputs": [
        {
          "output_type": "display_data",
          "data": {
            "text/plain": [
              "<Figure size 432x288 with 1 Axes>"
            ],
            "image/png": "[encoded data removed]"
          },
          "metadata": {
            "needs_background": "light"
          }
        }
      ]
    },
    {
      "cell_type": "code",
      "source": [
        "X_train, X_test, y_train, y_test = train_test_split(X, y, train_size = 0.8, random_state = 42)"
      ],
      "metadata": {
        "id": "ctj-iuCHOLHc"
      },
      "id": "ctj-iuCHOLHc",
      "execution_count": null,
      "outputs": []
    },
    {
      "cell_type": "markdown",
      "source": [
        "From the chart above we can see the top 10 feature that affect the model most. There are tenure, MonthlyCharges, Contract, PaymentMethod_Electronic check, OnlineSecurity_No, TechSupport_No, InternetService_Fiber optic, gender_Female, gender_Male, and OnlineBackup_No."
      ],
      "metadata": {
        "id": "Wn9wRVujF4Mo"
      },
      "id": "Wn9wRVujF4Mo"
    },
    {
      "cell_type": "markdown",
      "source": [
        "---\n",
        "\n"
      ],
      "metadata": {
        "id": "VubbMg5pORlx"
      },
      "id": "VubbMg5pORlx"
    },
    {
      "cell_type": "markdown",
      "id": "e5d20cf2",
      "metadata": {
        "id": "e5d20cf2"
      },
      "source": [
        "# Modeling Data : Logistic Regression\n",
        "Logistic Regression is a classification technique used in machine learning. It uses a logistic function to model the dependent variable. The dependent variable is dichotomous in nature, in this case is customer who churn or not. We are using deafult threshold in this model to classify the churn customer and not churn customer."
      ]
    },
    {
      "cell_type": "code",
      "source": [
        "# fitting training\n",
        "model = LogisticRegression()\n",
        "model.fit(X_train, y_train)"
      ],
      "metadata": {
        "colab": {
          "base_uri": "https://localhost:8080/"
        },
        "id": "zD1nKRacOcSJ",
        "outputId": "f817d0e5-4d65-48ec-b272-f64389bd5f04"
      },
      "id": "zD1nKRacOcSJ",
      "execution_count": null,
      "outputs": [
        {
          "output_type": "execute_result",
          "data": {
            "text/plain": [
              "LogisticRegression()"
            ]
          },
          "metadata": {},
          "execution_count": 44
        }
      ]
    },
    {
      "cell_type": "code",
      "source": [
        "# predict the result\n",
        "y_pred = model.predict(X_test)"
      ],
      "metadata": {
        "id": "wE6ARwbkOgGs"
      },
      "id": "wE6ARwbkOgGs",
      "execution_count": null,
      "outputs": []
    },
    {
      "cell_type": "markdown",
      "source": [
        "\n",
        "\n",
        "---\n",
        "\n"
      ],
      "metadata": {
        "id": "Rx5bhjG-hHvO"
      },
      "id": "Rx5bhjG-hHvO"
    },
    {
      "cell_type": "markdown",
      "id": "bafe0759",
      "metadata": {
        "id": "bafe0759"
      },
      "source": [
        "# Evaluation : Confusion Matrix\n",
        "- A confusion matrix is a technique for summarizing the performance of a classification algorithm.\n",
        "\n",
        "- Classification accuracy alone can be misleading if you have an unequal number of observations in each class or if you have more than two classes in your dataset.\n",
        "\n",
        "- Calculating a confusion matrix can give you a better idea of what your classification model is getting right and what types of errors it is making.\n"
      ]
    },
    {
      "cell_type": "code",
      "source": [
        "cm_model = confusion_matrix(y_test, y_pred)\n",
        "\n",
        "labels = ['Churn', 'Not_Churn']\n",
        "\n",
        "print(classification_report(y_test, y_pred, target_names = labels))\n",
        "f, ax = plt.subplots(figsize=(8,5))\n",
        "sns.heatmap(cm_model, annot=True, fmt=\".0f\", ax=ax, cmap = 'Blues')\n",
        "\n",
        "ax.xaxis.set_ticklabels(labels)\n",
        "ax.yaxis.set_ticklabels(labels)\n",
        "\n",
        "plt.title('Logistic Regression TRAIN 80%')\n",
        "plt.xlabel('PREDICTED')\n",
        "plt.ylabel('ACTUAL')\n",
        "plt.show()"
      ],
      "metadata": {
        "colab": {
          "base_uri": "https://localhost:8080/",
          "height": 517
        },
        "id": "71S-4Hw-Oj3C",
        "outputId": "256f42ca-d8ef-421b-c50e-16bb66d32c19"
      },
      "id": "71S-4Hw-Oj3C",
      "execution_count": null,
      "outputs": [
        {
          "output_type": "stream",
          "name": "stdout",
          "text": [
            "              precision    recall  f1-score   support\n",
            "\n",
            "       Churn       0.86      0.91      0.88      1036\n",
            "   Not_Churn       0.69      0.59      0.64       373\n",
            "\n",
            "    accuracy                           0.82      1409\n",
            "   macro avg       0.78      0.75      0.76      1409\n",
            "weighted avg       0.82      0.82      0.82      1409\n",
            "\n"
          ]
        },
        {
          "output_type": "display_data",
          "data": {
            "text/plain": [
              "<Figure size 576x360 with 2 Axes>"
            ],
            "image/png": "[encoded data removed]"
          },
          "metadata": {
            "needs_background": "light"
          }
        }
      ]
    },
    {
      "cell_type": "markdown",
      "source": [
        "### Classification Report\n",
        "- From the table above we can see the precision for churn variable is 0.86 and not_churn variable is 0.69\n",
        "- From the table above we can see the recall for churn variable is 0.91 and not_churn variable is 0.59\n",
        "- From the table above we can  see the f1- score for churn variable is 0.88 and not_churn variable is 0.64\n",
        "- From the table above we can see the accuracy for this model 0.82"
      ],
      "metadata": {
        "id": "ZDY1eoyn-YAq"
      },
      "id": "ZDY1eoyn-YAq"
    },
    {
      "cell_type": "markdown",
      "source": [
        "### Confusion Matrix\n",
        "There are 4 category in this matrix:\n",
        "- True Positive, the number of true positive is 939\n",
        "- True Negative, the number of true negative is 220\n",
        "- False Negative, the number of false negative is 97\n",
        "- False Positive, the number of false positive is 153"
      ],
      "metadata": {
        "id": "1SLh1z6bAEcV"
      },
      "id": "1SLh1z6bAEcV"
    },
    {
      "cell_type": "code",
      "source": [
        "y_pred_train = model.predict(X_train)\n",
        "y_pred_test = model.predict(X_test)"
      ],
      "metadata": {
        "id": "lQM0GUopOm_3"
      },
      "id": "lQM0GUopOm_3",
      "execution_count": null,
      "outputs": []
    },
    {
      "cell_type": "code",
      "source": [
        "# Accuracy score of training data\n",
        "print(accuracy_score(y_train,y_pred_train))"
      ],
      "metadata": {
        "colab": {
          "base_uri": "https://localhost:8080/"
        },
        "id": "T2g5WlBROqFq",
        "outputId": "2c76735c-698b-4496-9311-73523b7e3aa5"
      },
      "id": "T2g5WlBROqFq",
      "execution_count": null,
      "outputs": [
        {
          "output_type": "stream",
          "name": "stdout",
          "text": [
            "0.7997870074547391\n"
          ]
        }
      ]
    },
    {
      "cell_type": "code",
      "source": [
        "print(accuracy_score(y_test,y_pred_test))"
      ],
      "metadata": {
        "colab": {
          "base_uri": "https://localhost:8080/"
        },
        "id": "lseUvqNlOrqi",
        "outputId": "686ab595-dd58-4b0f-8a44-71f87e725274"
      },
      "id": "lseUvqNlOrqi",
      "execution_count": null,
      "outputs": [
        {
          "output_type": "stream",
          "name": "stdout",
          "text": [
            "0.8225691980127751\n"
          ]
        }
      ]
    },
    {
      "cell_type": "markdown",
      "source": [
        "## AUC & RUC\n",
        "AUC - ROC curve is a performance measurement for the classification problems at various threshold settings. ROC is a probability curve and AUC represents the degree or measure of separability. It tells how much the model is capable of distinguishing between classes. Higher the AUC, the better the model is at predicting 0 classes as 0 and 1 classes as 1."
      ],
      "metadata": {
        "id": "6Qmy4u7OOt_O"
      },
      "id": "6Qmy4u7OOt_O"
    },
    {
      "cell_type": "code",
      "source": [
        "y_pred_train = model.predict(X_train)\n",
        "y_pred_test = model.predict(X_test)\n",
        "y_proba_train = model.predict_proba(X_train)[:,1]\n",
        "y_proba_test = model.predict_proba(X_test)[:,1]\n",
        "cm_train = confusion_matrix(y_train,y_pred_train)\n",
        "cm_test = confusion_matrix(y_test,y_pred_test)"
      ],
      "metadata": {
        "id": "SognlLzTOxnq"
      },
      "id": "SognlLzTOxnq",
      "execution_count": null,
      "outputs": []
    },
    {
      "cell_type": "code",
      "source": [
        "fpr_train, tpr_train, threshold_train = roc_curve(y_train, y_proba_train)\n",
        "roc_auc_train = auc(fpr_train, tpr_train)\n",
        "fpr_test, tpr_test, threshold_test = roc_curve(y_test, y_proba_test)\n",
        "roc_auc_test = auc(fpr_test, tpr_test)"
      ],
      "metadata": {
        "id": "MJPl6jygO7nf"
      },
      "id": "MJPl6jygO7nf",
      "execution_count": null,
      "outputs": []
    },
    {
      "cell_type": "code",
      "source": [
        "# True Positive\n",
        "tp_train, tp_test = cm_train[1][1], cm_test[1][1]\n",
        "# True Negative\n",
        "tn_train, tn_test = cm_train[0][0], cm_test[0][0]\n",
        "# False Positive\n",
        "fp_train, fp_test = cm_train[1][0], cm_test[1][0]\n",
        "# False Negative\n",
        "fn_train, fn_test = cm_train[0][1], cm_test[0][1]"
      ],
      "metadata": {
        "id": "1iXQsl3wO-Oh"
      },
      "id": "1iXQsl3wO-Oh",
      "execution_count": null,
      "outputs": []
    },
    {
      "cell_type": "code",
      "source": [
        "# Overall, how often is the classifier correct?\n",
        "accuracy_train, accuracy_test = ((tp_train + tn_train) / (tp_train + tn_train + fp_train + fn_train)), (\n",
        "            (tp_test + tn_test) / (tp_test + tn_test + fp_test + fn_test))\n",
        "# When it's actually yes, how often does it predict yes?\n",
        "recall_train, recall_test = (tp_train / (tp_train + fp_train)), (tp_test / (tp_test + fp_test))\n",
        "# When it's actually no, how often does it predict no?\n",
        "specificity_train, specificity_test = (tn_train / (tn_train + fn_train)), (tn_test / (tn_test + fn_test))\n",
        "# When it predicts yes, how often is it correct?\n",
        "precision_train, precision_test = (tp_train / (tp_train + fn_train)), (tp_test / (tp_test + fn_test))\n",
        "# F1 Score\n",
        "f1_score_train, f1_score_test = (2 * (precision_train * recall_train) / (precision_train + recall_train)), (\n",
        "            2 * (precision_test * recall_test) / (precision_test + recall_test))"
      ],
      "metadata": {
        "id": "QQ9oYz16O7fN"
      },
      "id": "QQ9oYz16O7fN",
      "execution_count": null,
      "outputs": []
    },
    {
      "cell_type": "code",
      "source": [
        "# Print all the evaluation metrics\n",
        "print('\\nTrain Confusion Matrix')\n",
        "print(cm_train)\n",
        "print('Test Confusion Matrix')\n",
        "print(cm_test)\n",
        "print('\\nArea Under Curve')\n",
        "print('AUC train & test        : %.2f%%' % (roc_auc_train * 100), '&', '%.2f%%' % (roc_auc_test * 100))\n",
        "print('\\nConfusion Matrix Evaluation')\n",
        "print('Accuracy train & test   : %.2f%%' % (accuracy_train * 100), '&', '%.2f%%' % (accuracy_test * 100))\n",
        "print('Recall train & test     : %.2f%%' % (recall_train * 100), '&', '%.2f%%' % (recall_test * 100))\n",
        "print('Specificity train & test: %.2f%%' % (specificity_train * 100), '&', '%.2f%%' % (specificity_test * 100))\n",
        "print('Precision train & test  : %.2f%%' % (precision_train * 100), '&', '%.2f%%' % (precision_test * 100))\n",
        "print('F1 Score train & test   : %.2f%%' % (f1_score_train * 100), '&', '%.2f%%' % (f1_score_test * 100))\n",
        "print('Log Loss train & test   :', round(log_loss(y_train, y_pred_train), 4), '&',\n",
        "          round(log_loss(y_test, y_pred_test), 4))"
      ],
      "metadata": {
        "colab": {
          "base_uri": "https://localhost:8080/"
        },
        "id": "5m6GZFaxPBCm",
        "outputId": "5b1b4774-6cdb-4469-f045-85477aaefa60"
      },
      "id": "5m6GZFaxPBCm",
      "execution_count": null,
      "outputs": [
        {
          "output_type": "stream",
          "name": "stdout",
          "text": [
            "\n",
            "Train Confusion Matrix\n",
            "[[3717  421]\n",
            " [ 707  789]]\n",
            "Test Confusion Matrix\n",
            "[[939  97]\n",
            " [153 220]]\n",
            "\n",
            "Area Under Curve\n",
            "AUC train & test        : 83.96% & 86.07%\n",
            "\n",
            "Confusion Matrix Evaluation\n",
            "Accuracy train & test   : 79.98% & 82.26%\n",
            "Recall train & test     : 52.74% & 58.98%\n",
            "Specificity train & test: 89.83% & 90.64%\n",
            "Precision train & test  : 65.21% & 69.40%\n",
            "F1 Score train & test   : 58.31% & 63.77%\n",
            "Log Loss train & test   : 6.9152 & 6.1283\n"
          ]
        }
      ]
    },
    {
      "cell_type": "code",
      "source": [
        "#create plot of ROC_AUC\n",
        "plt.figure(figsize=(7, 6))\n",
        "plt.title('Receiver Operating Characteristic')\n",
        "plt.plot(fpr_train, tpr_train, 'b', label='Train = %0.2f' % roc_auc_train)\n",
        "plt.plot(fpr_test, tpr_test, 'g', label='Test  = %0.2f' % roc_auc_test)\n",
        "plt.legend(loc='lower right')\n",
        "plt.plot([0, 1], [0, 1], 'r--')\n",
        "plt.xlim([-0.05, 1.05])\n",
        "plt.ylim([-0.05, 1.05])\n",
        "plt.ylabel('True Positive Rate')\n",
        "plt.xlabel('False Positive Rate')\n",
        "plt.show()"
      ],
      "metadata": {
        "colab": {
          "base_uri": "https://localhost:8080/",
          "height": 404
        },
        "id": "4r-od09wPDq1",
        "outputId": "7bcbf16b-bd13-4db7-91ae-075f3d37f9ab"
      },
      "id": "4r-od09wPDq1",
      "execution_count": null,
      "outputs": [
        {
          "output_type": "display_data",
          "data": {
            "text/plain": [
              "<Figure size 504x432 with 1 Axes>"
            ],
            "image/png": "[encoded data removed]"
          },
          "metadata": {
            "needs_background": "light"
          }
        }
      ]
    },
    {
      "cell_type": "markdown",
      "source": [
        "## Building a Model with Cross Validation\n",
        "Cross-Validation is a statistical method of evaluating and comparing learning algorithms by dividing data into two segments: one used to learn or train a model and the other used to validate the model."
      ],
      "metadata": {
        "id": "fTzX3IFCPG8v"
      },
      "id": "fTzX3IFCPG8v"
    },
    {
      "cell_type": "code",
      "source": [
        "model = LogisticRegression()"
      ],
      "metadata": {
        "id": "NpkQ-Y8_PGQD"
      },
      "id": "NpkQ-Y8_PGQD",
      "execution_count": null,
      "outputs": []
    },
    {
      "cell_type": "code",
      "source": [
        "scores = cross_val_score(model, X_train, y_train, scoring='accuracy', cv=3)\n",
        "\n",
        "scores"
      ],
      "metadata": {
        "colab": {
          "base_uri": "https://localhost:8080/"
        },
        "id": "JF_T-YqHPGIo",
        "outputId": "36a21b79-b2d0-4ace-b30b-8fa6db17d2b8"
      },
      "id": "JF_T-YqHPGIo",
      "execution_count": null,
      "outputs": [
        {
          "output_type": "execute_result",
          "data": {
            "text/plain": [
              "array([0.79605964, 0.79978701, 0.80138445])"
            ]
          },
          "metadata": {},
          "execution_count": 57
        }
      ]
    },
    {
      "cell_type": "markdown",
      "source": [
        "## Hyperparameter Tuning in Logistic Regression\n",
        "Hyperparameter tuning consists of finding a set of optimal hyperparameter values for a learning algorithm while applying this optimized algorithm to any data set. That combination of hyperparameters maximizes the model's performance, minimizing a predefined loss function to produce better results with fewer errors."
      ],
      "metadata": {
        "id": "MwcyxMmTPRI5"
      },
      "id": "MwcyxMmTPRI5"
    },
    {
      "cell_type": "code",
      "source": [
        "model.get_params()"
      ],
      "metadata": {
        "colab": {
          "base_uri": "https://localhost:8080/"
        },
        "id": "Ie-LTye3PF-p",
        "outputId": "db3c5568-c8e7-495f-fb7c-1fe96f5f757d"
      },
      "id": "Ie-LTye3PF-p",
      "execution_count": null,
      "outputs": [
        {
          "output_type": "execute_result",
          "data": {
            "text/plain": [
              "{'C': 1.0,\n",
              " 'class_weight': None,\n",
              " 'dual': False,\n",
              " 'fit_intercept': True,\n",
              " 'intercept_scaling': 1,\n",
              " 'l1_ratio': None,\n",
              " 'max_iter': 100,\n",
              " 'multi_class': 'auto',\n",
              " 'n_jobs': None,\n",
              " 'penalty': 'l2',\n",
              " 'random_state': None,\n",
              " 'solver': 'lbfgs',\n",
              " 'tol': 0.0001,\n",
              " 'verbose': 0,\n",
              " 'warm_start': False}"
            ]
          },
          "metadata": {},
          "execution_count": 58
        }
      ]
    },
    {
      "cell_type": "code",
      "source": [
        "parameters = {\"penalty\": ['l1', 'l2', 'elasticnet', 'none'],\n",
        "              \"solver\": ['newton-cg', 'lbfgs', 'liblinear', 'sag', 'saga'],\n",
        "              \"n_jobs\": [None, -1],\n",
        "              \"max_iter\": [10, 100, 1000]\n",
        "             }"
      ],
      "metadata": {
        "id": "pVfPLr6WPF6U"
      },
      "id": "pVfPLr6WPF6U",
      "execution_count": null,
      "outputs": []
    },
    {
      "cell_type": "code",
      "source": [
        "grid = GridSearchCV(estimator = model, param_grid = parameters, cv=3)"
      ],
      "metadata": {
        "id": "TwL3Dq-DPF1B"
      },
      "id": "TwL3Dq-DPF1B",
      "execution_count": null,
      "outputs": []
    },
    {
      "cell_type": "code",
      "source": [
        "best_model = grid.fit(X_train, y_train)\n",
        "\n",
        "# find best param\n",
        "best_model.best_params_"
      ],
      "metadata": {
        "colab": {
          "base_uri": "https://localhost:8080/"
        },
        "id": "2_aQr1cjPacB",
        "outputId": "c7d80e8a-bce9-42cc-ba25-06804b3e72d0"
      },
      "id": "2_aQr1cjPacB",
      "execution_count": null,
      "outputs": [
        {
          "output_type": "execute_result",
          "data": {
            "text/plain": [
              "{'max_iter': 10, 'n_jobs': None, 'penalty': 'l1', 'solver': 'liblinear'}"
            ]
          },
          "metadata": {},
          "execution_count": 61
        }
      ]
    },
    {
      "cell_type": "markdown",
      "source": [
        "## Building a Model with Hyperparameter Turning"
      ],
      "metadata": {
        "id": "H2bbticKPhMI"
      },
      "id": "H2bbticKPhMI"
    },
    {
      "cell_type": "code",
      "source": [
        "# model with best param\n",
        "model_new = LogisticRegression(max_iter=10, n_jobs=None, penalty='l2', solver='newton-cg')"
      ],
      "metadata": {
        "id": "xrGJi7DoPwkL"
      },
      "id": "xrGJi7DoPwkL",
      "execution_count": null,
      "outputs": []
    },
    {
      "cell_type": "code",
      "source": [
        "train_model_new = model_new.fit(X_train, y_train)"
      ],
      "metadata": {
        "id": "3BDUx908PyWB"
      },
      "id": "3BDUx908PyWB",
      "execution_count": null,
      "outputs": []
    },
    {
      "cell_type": "code",
      "source": [
        "y_pred_new = model_new.predict(X_test)"
      ],
      "metadata": {
        "id": "TbWHhrMaPyQI"
      },
      "id": "TbWHhrMaPyQI",
      "execution_count": null,
      "outputs": []
    },
    {
      "cell_type": "code",
      "source": [
        "cm_model = confusion_matrix(y_test, y_pred_new)\n",
        "\n",
        "labels = ['Churn', 'Not_Churn']\n",
        "\n",
        "print(classification_report(y_test, y_pred_new, target_names = labels))\n",
        "f, ax = plt.subplots(figsize=(8,5))\n",
        "sns.heatmap(cm_model, annot=True, fmt=\".0f\", ax=ax, cmap = 'Blues')\n",
        "\n",
        "ax.xaxis.set_ticklabels(labels)\n",
        "ax.yaxis.set_ticklabels(labels)\n",
        "\n",
        "plt.title('Logistic Regression TRAIN 80%')\n",
        "plt.xlabel('PREDICTED')\n",
        "plt.ylabel('ACTUAL')\n",
        "plt.show()"
      ],
      "metadata": {
        "colab": {
          "base_uri": "https://localhost:8080/",
          "height": 517
        },
        "id": "j7aMtEXCP1za",
        "outputId": "2bfa42d8-f940-4be3-c7dd-961f432405a1"
      },
      "id": "j7aMtEXCP1za",
      "execution_count": null,
      "outputs": [
        {
          "output_type": "stream",
          "name": "stdout",
          "text": [
            "              precision    recall  f1-score   support\n",
            "\n",
            "       Churn       0.86      0.91      0.88      1036\n",
            "   Not_Churn       0.70      0.59      0.64       373\n",
            "\n",
            "    accuracy                           0.82      1409\n",
            "   macro avg       0.78      0.75      0.76      1409\n",
            "weighted avg       0.82      0.82      0.82      1409\n",
            "\n"
          ]
        },
        {
          "output_type": "display_data",
          "data": {
            "text/plain": [
              "<Figure size 576x360 with 2 Axes>"
            ],
            "image/png": "[encoded data removed]"
          },
          "metadata": {
            "needs_background": "light"
          }
        }
      ]
    },
    {
      "cell_type": "markdown",
      "source": [
        "### Classification Report\n",
        "- From the table above we can see the precision for churn variable is 0.86 and not_churn variable is 0.70\n",
        "- From the table above we can see the recall for churn variable is 0.91 and not_churn variable is 0.59\n",
        "- From the table above we can  see the f1- score for churn variable is 0.88 and not_churn variable is 0.64\n",
        "- From the table above we can see the accuracy for this model 0.82"
      ],
      "metadata": {
        "id": "8dt4ki7iCLJ-"
      },
      "id": "8dt4ki7iCLJ-"
    },
    {
      "cell_type": "markdown",
      "source": [
        "### Confusion Matrix\n",
        "There are 4 category in this matrix:\n",
        "- True Positive, the number of true positive is 940\n",
        "- True Negative, the number of true negative is 220\n",
        "- False Negative, the number of false negative is 96\n",
        "- False Positive, the number of false positive is 153"
      ],
      "metadata": {
        "id": "qgk24k60CJ0O"
      },
      "id": "qgk24k60CJ0O"
    },
    {
      "cell_type": "code",
      "source": [
        "# Accuracy score of training data\n",
        "print(accuracy_score(y_train,y_pred_train))"
      ],
      "metadata": {
        "colab": {
          "base_uri": "https://localhost:8080/"
        },
        "id": "i1A9MGA6P3f5",
        "outputId": "3f8b7f81-8199-45c7-e8d2-ebe8974cf0c9"
      },
      "id": "i1A9MGA6P3f5",
      "execution_count": null,
      "outputs": [
        {
          "output_type": "stream",
          "name": "stdout",
          "text": [
            "0.7997870074547391\n"
          ]
        }
      ]
    },
    {
      "cell_type": "code",
      "source": [
        "# Accuracy score of test data\n",
        "print(accuracy_score(y_test,y_pred_new))"
      ],
      "metadata": {
        "colab": {
          "base_uri": "https://localhost:8080/"
        },
        "id": "N48o-PWPB5KW",
        "outputId": "de9cf613-5e58-4d6f-ab88-d06c6b4d1664"
      },
      "id": "N48o-PWPB5KW",
      "execution_count": null,
      "outputs": [
        {
          "output_type": "stream",
          "name": "stdout",
          "text": [
            "0.8232789212207239\n"
          ]
        }
      ]
    },
    {
      "cell_type": "markdown",
      "source": [
        "## Oversampling with SMOTE\n",
        "SMOTE is an oversampling technique where the synthetic samples are generated for the minority class. This algorithm helps to overcome the overfitting problem posed by random oversampling. It focuses on the feature space to generate new instances with the help of interpolation between the positive instances that lie together."
      ],
      "metadata": {
        "id": "U2aHcohQQDn4"
      },
      "id": "U2aHcohQQDn4"
    },
    {
      "cell_type": "code",
      "source": [
        "oversample = SMOTE()\n",
        "X_train_sm, y_train_sm = oversample.fit_resample(X_train, y_train)\n",
        "\n",
        "# Model oversampled\n",
        "model_sm = LogisticRegression()\n",
        "model_sm.fit(X_train_sm, y_train_sm)"
      ],
      "metadata": {
        "colab": {
          "base_uri": "https://localhost:8080/"
        },
        "id": "lQd8YvQVQCj5",
        "outputId": "38dbb8f4-5b96-4ab9-8b8e-cdb45f2e7fcd"
      },
      "id": "lQd8YvQVQCj5",
      "execution_count": null,
      "outputs": [
        {
          "output_type": "execute_result",
          "data": {
            "text/plain": [
              "LogisticRegression()"
            ]
          },
          "metadata": {},
          "execution_count": 68
        }
      ]
    },
    {
      "cell_type": "code",
      "source": [
        "y_pred_sm = model_sm.predict(X_test)"
      ],
      "metadata": {
        "id": "tBu9O6LQQLnu"
      },
      "id": "tBu9O6LQQLnu",
      "execution_count": null,
      "outputs": []
    },
    {
      "cell_type": "code",
      "source": [
        "cm_model = confusion_matrix(y_test, y_pred_sm)\n",
        "\n",
        "labels = ['Churn', 'Not_Churn']\n",
        "\n",
        "print(classification_report(y_test, y_pred_sm, target_names = labels))\n",
        "f, ax = plt.subplots(figsize=(8,5))\n",
        "sns.heatmap(cm_model, annot=True, fmt=\".0f\", ax=ax, cmap = 'Blues')\n",
        "\n",
        "ax.xaxis.set_ticklabels(labels)\n",
        "ax.yaxis.set_ticklabels(labels)\n",
        "\n",
        "plt.title('Logistic Regression TRAIN 80%')\n",
        "plt.xlabel('PREDICTED')\n",
        "plt.ylabel('ACTUAL')\n",
        "plt.show()"
      ],
      "metadata": {
        "colab": {
          "base_uri": "https://localhost:8080/",
          "height": 517
        },
        "id": "ExmAhdPYQR36",
        "outputId": "c3641268-efdf-4a25-9adc-4dcfd102cce7"
      },
      "id": "ExmAhdPYQR36",
      "execution_count": null,
      "outputs": [
        {
          "output_type": "stream",
          "name": "stdout",
          "text": [
            "              precision    recall  f1-score   support\n",
            "\n",
            "       Churn       0.89      0.83      0.86      1036\n",
            "   Not_Churn       0.60      0.71      0.65       373\n",
            "\n",
            "    accuracy                           0.80      1409\n",
            "   macro avg       0.74      0.77      0.75      1409\n",
            "weighted avg       0.81      0.80      0.80      1409\n",
            "\n"
          ]
        },
        {
          "output_type": "display_data",
          "data": {
            "text/plain": [
              "<Figure size 576x360 with 2 Axes>"
            ],
            "image/png": "[encoded data removed]"
          },
          "metadata": {
            "needs_background": "light"
          }
        }
      ]
    },
    {
      "cell_type": "markdown",
      "source": [
        "### Classification Report\n",
        "- From the table above we can see the precision for churn variable is 0.89 and not_churn variable is 0.60\n",
        "- From the table above we can see the recall for churn variable is 0.83 and not_churn variable is 0.71\n",
        "- From the table above we can  see the f1- score for churn variable is 0.86 and not_churn variable is 0.65\n",
        "- From the table above we can see the accuracy for this model 0.80"
      ],
      "metadata": {
        "id": "YCKm5tDKDmiv"
      },
      "id": "YCKm5tDKDmiv"
    },
    {
      "cell_type": "markdown",
      "source": [
        "### Confusion Matrix\n",
        "There are 4 category in this matrix:\n",
        "- True Positive, the number of true positive is 860\n",
        "- True Negative, the number of true negative is 264\n",
        "- False Negative, the number of false negative is 176\n",
        "- False Positive, the number of false positive is 109"
      ],
      "metadata": {
        "id": "nyEy-Qd6DmRe"
      },
      "id": "nyEy-Qd6DmRe"
    },
    {
      "cell_type": "code",
      "source": [
        "y_pred_train_sm = model_sm.predict(X_train_sm)\n",
        "y_pred_test_sm = model_sm.predict(X_test)"
      ],
      "metadata": {
        "id": "h2h6MMwPP5Aa"
      },
      "id": "h2h6MMwPP5Aa",
      "execution_count": null,
      "outputs": []
    },
    {
      "cell_type": "code",
      "source": [
        "# Accuracy score of training data\n",
        "print(accuracy_score(y_train_sm,y_pred_train_sm))"
      ],
      "metadata": {
        "colab": {
          "base_uri": "https://localhost:8080/"
        },
        "id": "z1e_fQjUP7kv",
        "outputId": "c3265a37-218d-4930-edee-4c85c24d30cc"
      },
      "id": "z1e_fQjUP7kv",
      "execution_count": null,
      "outputs": [
        {
          "output_type": "stream",
          "name": "stdout",
          "text": [
            "0.833615273078782\n"
          ]
        }
      ]
    },
    {
      "cell_type": "code",
      "source": [
        "print(accuracy_score(y_test,y_pred_test_sm))"
      ],
      "metadata": {
        "colab": {
          "base_uri": "https://localhost:8080/"
        },
        "id": "hosBoPbfRowj",
        "outputId": "75731d8a-7a45-4737-e5de-76a5047facd8"
      },
      "id": "hosBoPbfRowj",
      "execution_count": null,
      "outputs": [
        {
          "output_type": "stream",
          "name": "stdout",
          "text": [
            "0.7977288857345636\n"
          ]
        }
      ]
    },
    {
      "cell_type": "markdown",
      "source": [
        "From the accuracy test above we can see the accurcay for train data is increasing, but for the test data is decreasing. So we can conclude that using this oversampling method cauused overvitting to the model."
      ],
      "metadata": {
        "id": "KrSS1IqiD_aU"
      },
      "id": "KrSS1IqiD_aU"
    },
    {
      "cell_type": "markdown",
      "source": [
        "\n",
        "---\n",
        "\n"
      ],
      "metadata": {
        "id": "stmCClDfRtVn"
      },
      "id": "stmCClDfRtVn"
    },
    {
      "cell_type": "markdown",
      "id": "687a093e",
      "metadata": {
        "id": "687a093e"
      },
      "source": [
        "# Result\n",
        "\n"
      ]
    },
    {
      "cell_type": "markdown",
      "source": [
        "**How many customers that churn and not churn ?**\n",
        "* From the chart above, can be seen that most customers are non-churn\n",
        "* From 7043 customers, 73.46% are non-churn with 5174 customer and 26.6% are churn with 1869 customer."
      ],
      "metadata": {
        "id": "lBEm_zfINJVv"
      },
      "id": "lBEm_zfINJVv"
    },
    {
      "cell_type": "markdown",
      "source": [
        "**How many customers that churn and not churn based on gender, senior citizen, have partner and dependents ?**\n",
        "* Customers who churn by gender for male 43.1%, female 42.9% and unknown gender the customer 14%. Then for customers who not churn by gender, 43.3% are male, 42.3% female and the unknown gender the customers 14%.\n",
        "* Customers who churn by senior citizen for 64% not senior citizen, 14% senior citizen and 22% unknown senior citizen or not. Customers who not churn by senior citizen for 74.6% not senior citizen, 10.9% senior citizen and 14.5% unknown senior citizen or not.\n",
        "* Customers who churn by partner for 55.2% haven't partner, 30.8% has partner and 14% unknown have partner or not. Then for customers who not churn by partner for 45.4% haven't partner, 40.2% has partner and 14.5% unknown have partner or not.\n",
        "* Customers who churn by dependents for 70.9% haven't dependents, 15.1% has dependents and 14% unknown have dependents or not. Then for customers who not churn by dependents for 56.3% haven't dependents, 29.3% has dependents and 14.5% unknown have dependents or not."
      ],
      "metadata": {
        "id": "9-uCdfqPNOM5"
      },
      "id": "9-uCdfqPNOM5"
    },
    {
      "cell_type": "markdown",
      "source": [
        "\n",
        "**How many customers that churn and not churn based on contract, phone service, multiple lines, internet service, online security, online backup, device protection, tech support, streaming tv, streaming movies, paperless billing and payment method ?**\n",
        "* Customers who churn by phone services, 90.9% using phone services and 9.1% not using phone services. Then customers who not churn by phone services, 90.1% using phone services and 9.9% not using phone services.\n",
        "* Customers who churn by multiple lines, 39.4% not using multiple line, 38.7% using multiple lines, 14% unknown using multiple lines or not and 7.9% not using phone service. Then customers who not churn by multiple lines, 42.2% not using multiple line, 34.8% using multiple lines, 14.5% unknown using multiple lines or not and 8.5% not using phone service.\n",
        "* Customers who churn by internet services, 59.3% using fiber optic, 21.5% using DSL, 14% not using internet services and 5.2% unknown using internet services or not. Then customers who not churn by internet services, 32.7% using fiber optic, 29.2% using DSL, 23.6% not using internet services and 14.5% unknown using internet services or not.\n",
        "* Customers who churn by online security, 67.4% not using online security, 14% using online security, 13.4% not using internet services and 5.2% unknown using online security or not. Customers who not churn by online security, 33.5% not using online security, 28.4% using online security, 23.6% not using internet services and 14.5% unknown using online security or not.\n",
        "* Customers who churn, most of them don't take Online Backup service. We can see that from the chart, where there are 1067 or 57.1% customers.\n",
        "Then for customers who not churn most of them take Online Backup service. we can see from the chart, where there are 1627 or 31.4% customers.\n",
        "* Customers who churn, most of them don't take Device Protection service. We can see that from the chart, where there are 1043 or 55.8% customers.\n",
        "Then for customers who not churn most of them take Device Protection service. we can see from the chart, where there are 1603 or 31.0% customers.\n",
        "* Customers who churn, most of them don't take Tech Support service. We can see that from the chart, where there are 1235 or 66.1% customers.\n",
        "Then for customers who not churn most of them don't take Tech Support service. we can see from the chart, where there are 1738 or 33.6% customers.\n",
        "* Customers who churn, most of them don't take Streaming TV service. We can see that from the chart, where there are 802 or 42.9% customers.\n",
        "Then for customers who not churn most of them take Streaming TV service. we can see from the chart, where there are 1602 or 31% customers.\n",
        "* For churn customers by Streaming Movies, 43.5% don’t stream movies, 37.3% streaming movies, 14% don’t have internet service, and 5.2% who are not known streaming movies or not. For non-churn customers by StreamingMovies, 31.3% don’t stream movies, 30.6% streaming movies, 23.6% don’t have internet service, and 14.5% who are not known streaming movies or not.\n",
        "* For churn customers by Paperless Billing, 74.9% have paperless billing and 25.1% haven’t paperless billing. For non-churn customers by PaperlessBilling, 53.6% have paperless billing and 46.4% haven’t paperless billing.\n",
        "* For churn customers by Payment Method, 57.3% use electronic check, 16.5% use mailed check, 13.8% use bank transfer (automatic), and 12.4% use credit card (automatic). For not churn customers by PaymentMethod, 25.2% use electronic check, 25% use mailed check, 24.9% use bank transfer (automatic), and 24.9% use credit card (automatic).\n",
        "* For churn customers by Contract, 88.6% choose month-to-month type, 2.6% choose one year type, and 8.9% choose two year type. For non-churn customers by Contract, 42.9% choose month-to-month type, 25.3% choose one year type, and 31.8% choose two year type.\n",
        "\n",
        "\n",
        "\n"
      ],
      "metadata": {
        "id": "ZcDR45EGNR5h"
      },
      "id": "ZcDR45EGNR5h"
    },
    {
      "cell_type": "markdown",
      "source": [
        "**How many customers that churn and not churn based on spending their money every month and total spending ?**\n",
        "* The churn customer highest density is above 0.0175  in the high range of monthly charges amount. The non-churn customer monthly charges density peak the highest at the lower amount and medium density at the mid to high amount. The churn customer monthly charges amount density peak at middle to high amount but low density at low amount.\n",
        "* The non-churn customer highest density is below 0.0003 in the low range of total charges amount. The non-churn customer total charges amount density peak is lower than the churn customer. The churn customer total harges amount density peak is highest than non-churn customer.\n"
      ],
      "metadata": {
        "id": "lGYZefcaPUiF"
      },
      "id": "lGYZefcaPUiF"
    },
    {
      "cell_type": "markdown",
      "source": [
        "**How long customers that churn and not churn based on ong their tenure ?**\n",
        "* Customers who churn from the long of tenure from 0 - 20 months with the highest density above 0.040.\n",
        "* Customers who not churn from the long of tenure from 60 - 80 months with the highest density above 0.015\n"
      ],
      "metadata": {
        "id": "2ke6xrozPqpJ"
      },
      "id": "2ke6xrozPqpJ"
    },
    {
      "cell_type": "markdown",
      "source": [
        "**How produce modeling using Machine Learning to predict customers churn ?**\n",
        "* To produce modeling using machine learning can use Logistic Regression. Logistic Regression is a classification technique used in machine learning. It uses a logistic function to model the dependent variable. The dependent variable is dichotomous in nature, in this case is customer who churn or not. We are using deafult threshold in this model to classify the churn customer and not churn customer.\n",
        "* After using evaluation using this model we decided to use hyperparameter tunning. Then after evaluating this second model we decided to use the oversampling technique. \n",
        "* However, the oversampling technique causes overviting so we choose a model with hyperparameter tunning"
      ],
      "metadata": {
        "id": "db74Iw-JPtAz"
      },
      "id": "db74Iw-JPtAz"
    },
    {
      "cell_type": "markdown",
      "source": [
        "---\n"
      ],
      "metadata": {
        "id": "nl23D1ldZRtO"
      },
      "id": "nl23D1ldZRtO"
    },
    {
      "cell_type": "markdown",
      "id": "9d077cd9",
      "metadata": {
        "id": "9d077cd9"
      },
      "source": [
        "# Recommendation"
      ]
    },
    {
      "cell_type": "markdown",
      "source": [
        "- For customer churn : Maintain loyal customers by providing more economical prices and adjusting to the services they usually use.\n",
        "- For customer by gender : Provide attractive services to customers who are differentiated by gender.\n",
        "- For customers by senior citizens : The business team can increase the promotion by targeting young-adult citizens or non-senior citizens as their priority segment.\n",
        "- For subscribers with streaming tv and streaming movies: Offering bundling subscriptions for streaming tv and streaming movies at the same time with more economical price.\n",
        "- For customer by internet service: Improve internet service for fiber optic.\n",
        "- For monthly charges : Therefore the team can make loyalty points for every purchase, so customer that purchase can change their points into some reward, so the customer who have points can change it into some rewards just like 1 month free or something else.\n",
        "- For total charger : Therefore the team can make loyalty level based on total purchase, so customer who have reached some amount can go up to the next level with different benefit in each level."
      ],
      "metadata": {
        "id": "7fZczpynZWLn"
      },
      "id": "7fZczpynZWLn"
    }
  ],
  "metadata": {
    "kernelspec": {
      "display_name": "Python 3 (ipykernel)",
      "language": "python",
      "name": "python3"
    },
    "language_info": {
      "codemirror_mode": {
        "name": "ipython",
        "version": 3
      },
      "file_extension": ".py",
      "mimetype": "text/x-python",
      "name": "python",
      "nbconvert_exporter": "python",
      "pygments_lexer": "ipython3",
      "version": "3.9.12"
    },
    "colab": {
      "provenance": [],
      "collapsed_sections": [
        "U3GHFngfNsA8"
      ]
    }
  },
  "nbformat": 4,
  "nbformat_minor": 5
}